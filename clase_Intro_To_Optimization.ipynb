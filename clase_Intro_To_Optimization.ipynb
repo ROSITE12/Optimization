{
 "cells": [
  {
   "cell_type": "markdown",
   "id": "e94c1246",
   "metadata": {
    "id": "e94c1246"
   },
   "source": [
    "<img src=\"https://i.imgur.com/6U6q5jQ.png\"/>\n",
    "\n",
    "_____\n",
    "<a id='home'></a>\n",
    "\n",
    "<a target=\"_blank\" href=\"https://colab.research.google.com/github/SocialAnalytics-StrategicIntelligence/introOptimization/blob/main/Intro_To_Optimization.ipynb\">\n",
    "  <img src=\"https://colab.research.google.com/assets/colab-badge.svg\" alt=\"Open In Colab\"/>\n",
    "</a>\n",
    "\n",
    "\n",
    "# Introduction to Optimization for Decision Making\n"
   ]
  },
  {
   "cell_type": "code",
   "execution_count": 19,
   "id": "4e38af10",
   "metadata": {
    "id": "4e38af10",
    "scrolled": true
   },
   "outputs": [
    {
     "data": {
      "text/html": [
       "<iframe src=\"https://docs.google.com/presentation/d/e/2PACX-1vQHq0p2eTmxRWJjDmo1mUmdarYgIrEew4ieiVbIGQy-D_CyBw5rbbRUlRxwLKKaVQpRV9Hs8MGnz0X2/embed?start=false&loop=false&delayms=3000\" frameborder=\"0\" width=\"960\" height=\"569\" allowfullscreen=\"true\" mozallowfullscreen=\"true\" webkitallowfullscreen=\"true\"></iframe>\n"
      ],
      "text/plain": [
       "<IPython.core.display.HTML object>"
      ]
     },
     "metadata": {},
     "output_type": "display_data"
    }
   ],
   "source": [
    "%%html\n",
    "<iframe src=\"https://docs.google.com/presentation/d/e/2PACX-1vQHq0p2eTmxRWJjDmo1mUmdarYgIrEew4ieiVbIGQy-D_CyBw5rbbRUlRxwLKKaVQpRV9Hs8MGnz0X2/embed?start=false&loop=false&delayms=3000\" frameborder=\"0\" width=\"960\" height=\"569\" allowfullscreen=\"true\" mozallowfullscreen=\"true\" webkitallowfullscreen=\"true\"></iframe>"
   ]
  },
  {
   "cell_type": "markdown",
   "id": "869a5ade-2e6f-4ccd-8fd6-b4f276cff22f",
   "metadata": {
    "id": "869a5ade-2e6f-4ccd-8fd6-b4f276cff22f"
   },
   "source": [
    "# Part 1: Maximization/Minimization"
   ]
  },
  {
   "cell_type": "markdown",
   "id": "1f02e23b",
   "metadata": {
    "id": "1f02e23b"
   },
   "source": [
    "Please, go to your _environment_ in Anacoda Navigator to install **glpk** and **pulp**  before runing the codes below.\n",
    "Then, call the library:"
   ]
  },
  {
   "cell_type": "code",
   "execution_count": 20,
   "id": "2d2e3d99-7100-4941-aad8-57b178798e94",
   "metadata": {
    "id": "2d2e3d99-7100-4941-aad8-57b178798e94"
   },
   "outputs": [
    {
     "name": "stderr",
     "output_type": "stream",
     "text": [
      "WARNING: Package(s) not found: glpk\n"
     ]
    },
    {
     "name": "stdout",
     "output_type": "stream",
     "text": [
      "Name: PuLP\n",
      "Version: 2.9.0\n",
      "Summary: PuLP is an LP modeler written in python. PuLP can generate MPS or LP files and call GLPK, COIN CLP/CBC, CPLEX, and GUROBI to solve linear problems.\n",
      "Home-page: https://github.com/coin-or/pulp\n",
      "Author: J.S. Roy and S.A. Mitchell and F. Peschiera\n",
      "Author-email: pulp@stuartmitchell.com\n",
      "License: \n",
      "Location: C:\\Users\\maria\\AppData\\Local\\Programs\\Python\\Python312\\Lib\\site-packages\n",
      "Requires: \n",
      "Required-by: spopt\n",
      "Collecting glpk\n",
      "  Using cached glpk-0.4.8.tar.gz (160 kB)\n",
      "  Installing build dependencies: started\n",
      "  Installing build dependencies: still running...\n",
      "  Installing build dependencies: finished with status 'done'\n",
      "  Getting requirements to build wheel: started\n",
      "  Getting requirements to build wheel: finished with status 'done'\n",
      "  Preparing metadata (pyproject.toml): started\n",
      "  Preparing metadata (pyproject.toml): finished with status 'done'\n",
      "Requirement already satisfied: pulp in c:\\users\\maria\\appdata\\local\\programs\\python\\python312\\lib\\site-packages (2.9.0)\n",
      "Building wheels for collected packages: glpk\n",
      "  Building wheel for glpk (pyproject.toml): started\n",
      "  Building wheel for glpk (pyproject.toml): finished with status 'error'"
     ]
    },
    {
     "name": "stderr",
     "output_type": "stream",
     "text": [
      "  error: subprocess-exited-with-error\n",
      "  \n",
      "  × Building wheel for glpk (pyproject.toml) did not run successfully.\n",
      "  │ exit code: 1\n",
      "  ╰─> [5 lines of output]\n",
      "      running bdist_wheel\n",
      "      running build\n",
      "      running build_ext\n",
      "      building 'glpk' extension\n",
      "      error: Microsoft Visual C++ 14.0 or greater is required. Get it with \"Microsoft C++ Build Tools\": https://visualstudio.microsoft.com/visual-cpp-build-tools/\n",
      "      [end of output]\n",
      "  \n",
      "  note: This error originates from a subprocess, and is likely not a problem with pip.\n",
      "  ERROR: Failed building wheel for glpk\n",
      "\n",
      "[notice] A new release of pip is available: 24.2 -> 24.3.1\n",
      "[notice] To update, run: python.exe -m pip install --upgrade pip\n",
      "ERROR: ERROR: Failed to build installable wheels for some pyproject.toml based projects (glpk)\n"
     ]
    },
    {
     "name": "stdout",
     "output_type": "stream",
     "text": [
      "\n",
      "Failed to build glpk\n"
     ]
    }
   ],
   "source": [
    "!pip show glpk pulp\n",
    "!pip install glpk pulp"
   ]
  },
  {
   "cell_type": "code",
   "execution_count": 21,
   "id": "a105dc9b-d105-49d3-8093-96d03eca9530",
   "metadata": {
    "id": "a105dc9b-d105-49d3-8093-96d03eca9530"
   },
   "outputs": [],
   "source": [
    "import pulp as pp"
   ]
  },
  {
   "cell_type": "markdown",
   "id": "dd461c8a-8a20-4a93-aa9e-2b46c1deaf52",
   "metadata": {
    "id": "dd461c8a-8a20-4a93-aa9e-2b46c1deaf52"
   },
   "source": [
    "1. **Initialize the MODEL**: just write the name and declare if it is maximization or minimization problem type."
   ]
  },
  {
   "cell_type": "code",
   "execution_count": 22,
   "id": "4436e0c7",
   "metadata": {
    "id": "4436e0c7"
   },
   "outputs": [],
   "source": [
    "model = pp.LpProblem(name='refinery-problem', # just the name\n",
    "                     sense=pp.LpMaximize) # type of problem"
   ]
  },
  {
   "cell_type": "markdown",
   "id": "c001fd3a-190b-45d8-9fa3-c3e21578fa03",
   "metadata": {
    "id": "c001fd3a-190b-45d8-9fa3-c3e21578fa03"
   },
   "source": [
    "2. **Declare the VARIABLES**: The refinery model consists of these _variables_:"
   ]
  },
  {
   "cell_type": "code",
   "execution_count": 23,
   "id": "8533e838-9e02-4ca8-85ef-de557cb1dd7c",
   "metadata": {
    "id": "8533e838-9e02-4ca8-85ef-de557cb1dd7c"
   },
   "outputs": [],
   "source": [
    "# how much gas?\n",
    "Gas = pp.LpVariable(name=\"Gas\",  # just the name\n",
    "                    lowBound=0,  # ensure non-negativity\n",
    "                    cat='Continuous') # here: you accept decimal values\n",
    "\n",
    "# how much oil?\n",
    "Oil = pp.LpVariable(name=\"Oil\",\n",
    "                 lowBound=0,\n",
    "                 cat='Continuous')"
   ]
  },
  {
   "cell_type": "markdown",
   "id": "611438aa-54e1-4cdd-aa77-44702feb498a",
   "metadata": {
    "id": "611438aa-54e1-4cdd-aa77-44702feb498a"
   },
   "source": [
    "3. **Create function to OPTIMIZE**: The function is just the linear combination of the variables and their _given coefficients__:"
   ]
  },
  {
   "cell_type": "code",
   "execution_count": 24,
   "id": "e676c256-353d-4fbd-a206-6914f29ff8ba",
   "metadata": {
    "id": "e676c256-353d-4fbd-a206-6914f29ff8ba"
   },
   "outputs": [],
   "source": [
    "GasCoeff=1.9\n",
    "OilCoeff=1.5\n",
    "obj_func = GasCoeff*Gas + OilCoeff*Oil"
   ]
  },
  {
   "cell_type": "markdown",
   "id": "65a5c48f-d28c-489a-bcd4-f97be76b57c7",
   "metadata": {
    "id": "65a5c48f-d28c-489a-bcd4-f97be76b57c7"
   },
   "source": [
    "4. **Represent the constraints**: These are the rules the model (set of variables) must obey:"
   ]
  },
  {
   "cell_type": "code",
   "execution_count": 25,
   "id": "c24146f7-5db5-4606-90fd-9bc010685754",
   "metadata": {
    "id": "c24146f7-5db5-4606-90fd-9bc010685754"
   },
   "outputs": [],
   "source": [
    "# SUBJECT TO:\n",
    "C1= pp.LpConstraint(name='Gas Constraint',   # just the name\n",
    "                    e= 1*Gas - 2*Oil, rhs=0, # linear combination of constraint and rhs\n",
    "                    sense=pp.LpConstraintGE) # 'rule' >= 0 (LpConstraintGE)\n",
    "C2= pp.LpConstraint(name='Oil Constraint',\n",
    "                    e= 1*Oil, rhs=3000000,\n",
    "                    sense=pp.LpConstraintGE) # 'rule' >= 3000000 (LpConstraintGE)\n",
    "C3= pp.LpConstraint(name='Demand Constraint',\n",
    "                    e= 1*Gas, rhs=6400000,\n",
    "                    sense=pp.LpConstraintLE, )# 'rule' <= 6400000 (LpConstraintLE)"
   ]
  },
  {
   "cell_type": "markdown",
   "id": "10465ba5-03d5-41d0-9e65-b4c13d8a8728",
   "metadata": {
    "id": "10465ba5-03d5-41d0-9e65-b4c13d8a8728"
   },
   "source": [
    "5. **Build MODEL**: Here you add (i) the objective function, and (ii) all the constraints:"
   ]
  },
  {
   "cell_type": "code",
   "execution_count": 26,
   "id": "44dd2783-49c1-44fd-952b-47743c9d4686",
   "metadata": {
    "id": "44dd2783-49c1-44fd-952b-47743c9d4686"
   },
   "outputs": [],
   "source": [
    "model += obj_func\n",
    "model += C1\n",
    "model += C2\n",
    "model += C3\n"
   ]
  },
  {
   "cell_type": "markdown",
   "id": "2a332886-694b-40d8-98d3-e27066b28e96",
   "metadata": {
    "id": "2a332886-694b-40d8-98d3-e27066b28e96"
   },
   "source": [
    "6. **Solve the MODEL**: Notice we are not using the _default solver_, we are explicitly usig **COIN_CMD**:"
   ]
  },
  {
   "cell_type": "code",
   "execution_count": 27,
   "id": "531d75fa-6e19-4ef4-9170-31aef8b88fa0",
   "metadata": {
    "id": "531d75fa-6e19-4ef4-9170-31aef8b88fa0"
   },
   "outputs": [
    {
     "name": "stdout",
     "output_type": "stream",
     "text": [
      "['GLPK_CMD', 'PYGLPK', 'CPLEX_CMD', 'CPLEX_PY', 'GUROBI', 'GUROBI_CMD', 'MOSEK', 'XPRESS', 'XPRESS', 'XPRESS_PY', 'PULP_CBC_CMD', 'COIN_CMD', 'COINMP_DLL', 'CHOCO_CMD', 'MIPCL_CMD', 'SCIP_CMD', 'FSCIP_CMD', 'SCIP_PY', 'HiGHS', 'HiGHS_CMD', 'COPT', 'COPT_DLL', 'COPT_CMD']\n"
     ]
    }
   ],
   "source": [
    "solver_list = pp.listSolvers()\n",
    "print(solver_list)"
   ]
  },
  {
   "cell_type": "code",
   "execution_count": 28,
   "id": "636442d1-a48c-4a3a-a84d-9f2312f3d473",
   "metadata": {
    "id": "636442d1-a48c-4a3a-a84d-9f2312f3d473"
   },
   "outputs": [],
   "source": [
    "#solverToUse = pp.COIN_CMD(msg=False)\n",
    "model.solve(0);"
   ]
  },
  {
   "cell_type": "markdown",
   "id": "7db07777-25b5-46c9-9d51-f1d0e3ceb709",
   "metadata": {
    "id": "7db07777-25b5-46c9-9d51-f1d0e3ceb709"
   },
   "source": [
    "You can create a summary like this:"
   ]
  },
  {
   "cell_type": "code",
   "execution_count": 29,
   "id": "3a0152d1-cdd5-4426-9ba6-90556a685048",
   "metadata": {
    "id": "3a0152d1-cdd5-4426-9ba6-90556a685048"
   },
   "outputs": [
    {
     "data": {
      "text/plain": [
       "{'Model Status': 'Optimal',\n",
       " 'Optimal Solution': 16960000.0,\n",
       " 'Gas': 6400000.0,\n",
       " 'Oil': 3200000.0}"
      ]
     },
     "execution_count": 29,
     "metadata": {},
     "output_type": "execute_result"
    }
   ],
   "source": [
    "import pandas as pd\n",
    "\n",
    "Results={\"Model Status\":pp.LpStatus[model.status]}\n",
    "Results.update({\"Optimal Solution\":pp.value(model.objective)})\n",
    "Results.update({v.name: v.varValue for v in model.variables()})\n",
    "Results"
   ]
  },
  {
   "cell_type": "code",
   "execution_count": 30,
   "id": "651fadcc-cb30-4caa-98e4-f6215c0be7a9",
   "metadata": {
    "id": "651fadcc-cb30-4caa-98e4-f6215c0be7a9"
   },
   "outputs": [
    {
     "data": {
      "text/html": [
       "<style type=\"text/css\">\n",
       "</style>\n",
       "<table id=\"T_dad84\">\n",
       "  <thead>\n",
       "    <tr>\n",
       "      <th class=\"blank level0\" >&nbsp;</th>\n",
       "      <th id=\"T_dad84_level0_col0\" class=\"col_heading level0 col0\" >Optimal Solution</th>\n",
       "      <th id=\"T_dad84_level0_col1\" class=\"col_heading level0 col1\" >Gas</th>\n",
       "      <th id=\"T_dad84_level0_col2\" class=\"col_heading level0 col2\" >Oil</th>\n",
       "    </tr>\n",
       "    <tr>\n",
       "      <th class=\"index_name level0\" >Model Status</th>\n",
       "      <th class=\"blank col0\" >&nbsp;</th>\n",
       "      <th class=\"blank col1\" >&nbsp;</th>\n",
       "      <th class=\"blank col2\" >&nbsp;</th>\n",
       "    </tr>\n",
       "  </thead>\n",
       "  <tbody>\n",
       "    <tr>\n",
       "      <th id=\"T_dad84_level0_row0\" class=\"row_heading level0 row0\" >Optimal</th>\n",
       "      <td id=\"T_dad84_row0_col0\" class=\"data row0 col0\" >16,960,000.0</td>\n",
       "      <td id=\"T_dad84_row0_col1\" class=\"data row0 col1\" >6,400,000.0</td>\n",
       "      <td id=\"T_dad84_row0_col2\" class=\"data row0 col2\" >3,200,000.0</td>\n",
       "    </tr>\n",
       "  </tbody>\n",
       "</table>\n"
      ],
      "text/plain": [
       "<pandas.io.formats.style.Styler at 0x228f4d664e0>"
      ]
     },
     "execution_count": 30,
     "metadata": {},
     "output_type": "execute_result"
    }
   ],
   "source": [
    "#or\n",
    "pd.DataFrame.from_dict(Results,orient='index').T.set_index('Model Status').style.format('{:,}')"
   ]
  },
  {
   "cell_type": "markdown",
   "id": "9c025230-ed6e-40b1-ae5c-03bed5c5c0b7",
   "metadata": {
    "id": "9c025230-ed6e-40b1-ae5c-03bed5c5c0b7"
   },
   "source": [
    "<div class=\"alert-success\">\n",
    "\n",
    "<strong>Exercise: The diet problem</strong>"
   ]
  },
  {
   "cell_type": "code",
   "execution_count": 31,
   "id": "a7e1cb7a",
   "metadata": {
    "id": "a7e1cb7a"
   },
   "outputs": [
    {
     "data": {
      "text/html": [
       "<iframe src=\"https://docs.google.com/presentation/d/e/2PACX-1vTSq9X74urGAB_5n_MIJ9ZGIboKSvBdokVTBXVLh_qqZnmLRTJioOF431Rzys3Qi9UaFwWXjeq6Wmd5/embed?start=false&loop=false&delayms=3000\" frameborder=\"0\" width=\"960\" height=\"569\" allowfullscreen=\"true\" mozallowfullscreen=\"true\" webkitallowfullscreen=\"true\"></iframe>\n"
      ],
      "text/plain": [
       "<IPython.core.display.HTML object>"
      ]
     },
     "metadata": {},
     "output_type": "display_data"
    }
   ],
   "source": [
    "%%html\n",
    "<iframe src=\"https://docs.google.com/presentation/d/e/2PACX-1vTSq9X74urGAB_5n_MIJ9ZGIboKSvBdokVTBXVLh_qqZnmLRTJioOF431Rzys3Qi9UaFwWXjeq6Wmd5/embed?start=false&loop=false&delayms=3000\" frameborder=\"0\" width=\"960\" height=\"569\" allowfullscreen=\"true\" mozallowfullscreen=\"true\" webkitallowfullscreen=\"true\"></iframe>"
   ]
  },
  {
   "cell_type": "markdown",
   "id": "133cfdf8-a6f4-418b-83dd-785735310f65",
   "metadata": {
    "id": "133cfdf8-a6f4-418b-83dd-785735310f65"
   },
   "source": [
    "<div class=\"alert-success\">\n",
    "\n",
    "<strong>Exercise: The scheduling problem</strong>"
   ]
  },
  {
   "cell_type": "code",
   "execution_count": 32,
   "id": "13f944ca-ef56-46e8-88f7-2b08141c2208",
   "metadata": {
    "id": "13f944ca-ef56-46e8-88f7-2b08141c2208"
   },
   "outputs": [
    {
     "data": {
      "text/html": [
       "<iframe src=\"https://docs.google.com/presentation/d/e/2PACX-1vQtBRpIr6Hx1_T0zJ3_DRqsE82YUjx7ZkeEKLdA64fbjtjkmc6Ibf6ebzp6CY69D482IGpG2h9GcsC5/embed?start=false&loop=false&delayms=3000\" frameborder=\"0\" width=\"960\" height=\"569\" allowfullscreen=\"true\" mozallowfullscreen=\"true\" webkitallowfullscreen=\"true\"></iframe>\n"
      ],
      "text/plain": [
       "<IPython.core.display.HTML object>"
      ]
     },
     "metadata": {},
     "output_type": "display_data"
    }
   ],
   "source": [
    "%%html\n",
    "<iframe src=\"https://docs.google.com/presentation/d/e/2PACX-1vQtBRpIr6Hx1_T0zJ3_DRqsE82YUjx7ZkeEKLdA64fbjtjkmc6Ibf6ebzp6CY69D482IGpG2h9GcsC5/embed?start=false&loop=false&delayms=3000\" frameborder=\"0\" width=\"960\" height=\"569\" allowfullscreen=\"true\" mozallowfullscreen=\"true\" webkitallowfullscreen=\"true\"></iframe>"
   ]
  },
  {
   "cell_type": "markdown",
   "id": "2478f1d7-aa1c-4e6c-b404-d7faf01ab371",
   "metadata": {
    "id": "2478f1d7-aa1c-4e6c-b404-d7faf01ab371"
   },
   "source": [
    "# Part 2: Multicriteria Decision-Making"
   ]
  },
  {
   "cell_type": "code",
   "execution_count": 33,
   "id": "4bf5038e-daec-4f81-a2dd-afe31322f7e3",
   "metadata": {
    "id": "4bf5038e-daec-4f81-a2dd-afe31322f7e3"
   },
   "outputs": [
    {
     "data": {
      "text/html": [
       "<iframe src=\"https://docs.google.com/presentation/d/e/2PACX-1vR7GL_wF1eKRO0JgEUyIx5cxXUhTQ8ZM4F3AE1MLr7GYG33dwEobrLo6O2MaV2d7Cv47TaTgHghkhrV/embed?start=false&loop=false&delayms=3000\" frameborder=\"0\" width=\"960\" height=\"569\" allowfullscreen=\"true\" mozallowfullscreen=\"true\" webkitallowfullscreen=\"true\"></iframe>\n"
      ],
      "text/plain": [
       "<IPython.core.display.HTML object>"
      ]
     },
     "metadata": {},
     "output_type": "display_data"
    }
   ],
   "source": [
    "%%html\n",
    "<iframe src=\"https://docs.google.com/presentation/d/e/2PACX-1vR7GL_wF1eKRO0JgEUyIx5cxXUhTQ8ZM4F3AE1MLr7GYG33dwEobrLo6O2MaV2d7Cv47TaTgHghkhrV/embed?start=false&loop=false&delayms=3000\" frameborder=\"0\" width=\"960\" height=\"569\" allowfullscreen=\"true\" mozallowfullscreen=\"true\" webkitallowfullscreen=\"true\"></iframe>"
   ]
  },
  {
   "cell_type": "markdown",
   "id": "a0717b92-b145-4499-baad-fa95a1a755cf",
   "metadata": {
    "id": "a0717b92-b145-4499-baad-fa95a1a755cf"
   },
   "source": [
    "1. Prepare data file with the comparissons:"
   ]
  },
  {
   "cell_type": "code",
   "execution_count": 34,
   "id": "227c2b77-cc4e-4437-b7bc-c522b22168d8",
   "metadata": {
    "id": "227c2b77-cc4e-4437-b7bc-c522b22168d8"
   },
   "outputs": [
    {
     "data": {
      "text/html": [
       "\n",
       "<iframe src=\"https://docs.google.com/spreadsheets/d/e/2PACX-1vSeUfh-DtfAAvEecirNS7Qs2qN4npmNfRiw9JvKmRpq88snVc8HJBlru2cyPy8lsQflSxlnx6U-IePw/pubhtml?widget=true&amp;headers=false\" width=\"600\" height=\"300\" ></iframe>\n"
      ],
      "text/plain": [
       "<IPython.core.display.HTML object>"
      ]
     },
     "metadata": {},
     "output_type": "display_data"
    }
   ],
   "source": [
    "%%html\n",
    "\n",
    "<iframe src=\"https://docs.google.com/spreadsheets/d/e/2PACX-1vSeUfh-DtfAAvEecirNS7Qs2qN4npmNfRiw9JvKmRpq88snVc8HJBlru2cyPy8lsQflSxlnx6U-IePw/pubhtml?widget=true&amp;headers=false\" width=\"600\" height=\"300\" ></iframe>"
   ]
  },
  {
   "cell_type": "markdown",
   "id": "52def875-21cf-4270-a9b2-d61aed9fc025",
   "metadata": {
    "id": "52def875-21cf-4270-a9b2-d61aed9fc025"
   },
   "source": [
    "2. Get the data (Excel)"
   ]
  },
  {
   "cell_type": "code",
   "execution_count": 37,
   "id": "5afba538-ee4e-4a1b-9573-22dcbb177db5",
   "metadata": {
    "id": "5afba538-ee4e-4a1b-9573-22dcbb177db5"
   },
   "outputs": [],
   "source": [
    "# the link to the data\n",
    "\n",
    "linkGoogle='https://docs.google.com/spreadsheets/d/e/2PACX-1vSeUfh-DtfAAvEecirNS7Qs2qN4npmNfRiw9JvKmRpq88snVc8HJBlru2cyPy8lsQflSxlnx6U-IePw/pub?output=xlsx'# the link to the data"
   ]
  },
  {
   "cell_type": "markdown",
   "id": "7c73c2ca-2022-42e9-bf24-1559b215d7a9",
   "metadata": {
    "id": "7c73c2ca-2022-42e9-bf24-1559b215d7a9"
   },
   "source": [
    "3. Open each sheet:"
   ]
  },
  {
   "cell_type": "code",
   "execution_count": 36,
   "id": "eb165cc5-95fb-499a-a6f5-9306914d7249",
   "metadata": {
    "id": "eb165cc5-95fb-499a-a6f5-9306914d7249"
   },
   "outputs": [
    {
     "ename": "ImportError",
     "evalue": "Missing optional dependency 'openpyxl'.  Use pip or conda to install openpyxl.",
     "output_type": "error",
     "traceback": [
      "\u001b[1;31m---------------------------------------------------------------------------\u001b[0m",
      "\u001b[1;31mModuleNotFoundError\u001b[0m                       Traceback (most recent call last)",
      "File \u001b[1;32mc:\\Users\\maria\\AppData\\Local\\Programs\\Python\\Python312\\Lib\\site-packages\\pandas\\compat\\_optional.py:135\u001b[0m, in \u001b[0;36mimport_optional_dependency\u001b[1;34m(name, extra, errors, min_version)\u001b[0m\n\u001b[0;32m    134\u001b[0m \u001b[38;5;28;01mtry\u001b[39;00m:\n\u001b[1;32m--> 135\u001b[0m     module \u001b[38;5;241m=\u001b[39m \u001b[43mimportlib\u001b[49m\u001b[38;5;241;43m.\u001b[39;49m\u001b[43mimport_module\u001b[49m\u001b[43m(\u001b[49m\u001b[43mname\u001b[49m\u001b[43m)\u001b[49m\n\u001b[0;32m    136\u001b[0m \u001b[38;5;28;01mexcept\u001b[39;00m \u001b[38;5;167;01mImportError\u001b[39;00m:\n",
      "File \u001b[1;32mc:\\Users\\maria\\AppData\\Local\\Programs\\Python\\Python312\\Lib\\importlib\\__init__.py:90\u001b[0m, in \u001b[0;36mimport_module\u001b[1;34m(name, package)\u001b[0m\n\u001b[0;32m     89\u001b[0m         level \u001b[38;5;241m+\u001b[39m\u001b[38;5;241m=\u001b[39m \u001b[38;5;241m1\u001b[39m\n\u001b[1;32m---> 90\u001b[0m \u001b[38;5;28;01mreturn\u001b[39;00m \u001b[43m_bootstrap\u001b[49m\u001b[38;5;241;43m.\u001b[39;49m\u001b[43m_gcd_import\u001b[49m\u001b[43m(\u001b[49m\u001b[43mname\u001b[49m\u001b[43m[\u001b[49m\u001b[43mlevel\u001b[49m\u001b[43m:\u001b[49m\u001b[43m]\u001b[49m\u001b[43m,\u001b[49m\u001b[43m \u001b[49m\u001b[43mpackage\u001b[49m\u001b[43m,\u001b[49m\u001b[43m \u001b[49m\u001b[43mlevel\u001b[49m\u001b[43m)\u001b[49m\n",
      "File \u001b[1;32m<frozen importlib._bootstrap>:1387\u001b[0m, in \u001b[0;36m_gcd_import\u001b[1;34m(name, package, level)\u001b[0m\n",
      "File \u001b[1;32m<frozen importlib._bootstrap>:1360\u001b[0m, in \u001b[0;36m_find_and_load\u001b[1;34m(name, import_)\u001b[0m\n",
      "File \u001b[1;32m<frozen importlib._bootstrap>:1324\u001b[0m, in \u001b[0;36m_find_and_load_unlocked\u001b[1;34m(name, import_)\u001b[0m\n",
      "\u001b[1;31mModuleNotFoundError\u001b[0m: No module named 'openpyxl'",
      "\nDuring handling of the above exception, another exception occurred:\n",
      "\u001b[1;31mImportError\u001b[0m                               Traceback (most recent call last)",
      "Cell \u001b[1;32mIn[36], line 5\u001b[0m\n\u001b[0;32m      1\u001b[0m \u001b[38;5;66;03m# opening the comparissons\u001b[39;00m\n\u001b[0;32m      3\u001b[0m \u001b[38;5;28;01mimport\u001b[39;00m \u001b[38;5;21;01mpandas\u001b[39;00m \u001b[38;5;28;01mas\u001b[39;00m \u001b[38;5;21;01mpd\u001b[39;00m\n\u001b[1;32m----> 5\u001b[0m pairwise_age\u001b[38;5;241m=\u001b[39m\u001b[43mpd\u001b[49m\u001b[38;5;241;43m.\u001b[39;49m\u001b[43mread_excel\u001b[49m\u001b[43m(\u001b[49m\u001b[43mlinkGoogle\u001b[49m\u001b[43m,\u001b[49m\u001b[43msheet_name\u001b[49m\u001b[38;5;241;43m=\u001b[39;49m\u001b[38;5;124;43m'\u001b[39;49m\u001b[38;5;124;43mage\u001b[39;49m\u001b[38;5;124;43m'\u001b[39;49m\u001b[43m,\u001b[49m\u001b[43m \u001b[49m\u001b[43mindex_col\u001b[49m\u001b[38;5;241;43m=\u001b[39;49m\u001b[38;5;241;43m0\u001b[39;49m\u001b[43m)\u001b[49m\n\u001b[0;32m      6\u001b[0m pairwise_experience\u001b[38;5;241m=\u001b[39mpd\u001b[38;5;241m.\u001b[39mread_excel(linkGoogle,sheet_name\u001b[38;5;241m=\u001b[39m\u001b[38;5;124m'\u001b[39m\u001b[38;5;124mexperience\u001b[39m\u001b[38;5;124m'\u001b[39m, index_col\u001b[38;5;241m=\u001b[39m\u001b[38;5;241m0\u001b[39m)\n\u001b[0;32m      7\u001b[0m pairwise_education\u001b[38;5;241m=\u001b[39mpd\u001b[38;5;241m.\u001b[39mread_excel(linkGoogle,sheet_name\u001b[38;5;241m=\u001b[39m\u001b[38;5;124m'\u001b[39m\u001b[38;5;124meducation\u001b[39m\u001b[38;5;124m'\u001b[39m, index_col\u001b[38;5;241m=\u001b[39m\u001b[38;5;241m0\u001b[39m)\n",
      "File \u001b[1;32mc:\\Users\\maria\\AppData\\Local\\Programs\\Python\\Python312\\Lib\\site-packages\\pandas\\io\\excel\\_base.py:495\u001b[0m, in \u001b[0;36mread_excel\u001b[1;34m(io, sheet_name, header, names, index_col, usecols, dtype, engine, converters, true_values, false_values, skiprows, nrows, na_values, keep_default_na, na_filter, verbose, parse_dates, date_parser, date_format, thousands, decimal, comment, skipfooter, storage_options, dtype_backend, engine_kwargs)\u001b[0m\n\u001b[0;32m    493\u001b[0m \u001b[38;5;28;01mif\u001b[39;00m \u001b[38;5;129;01mnot\u001b[39;00m \u001b[38;5;28misinstance\u001b[39m(io, ExcelFile):\n\u001b[0;32m    494\u001b[0m     should_close \u001b[38;5;241m=\u001b[39m \u001b[38;5;28;01mTrue\u001b[39;00m\n\u001b[1;32m--> 495\u001b[0m     io \u001b[38;5;241m=\u001b[39m \u001b[43mExcelFile\u001b[49m\u001b[43m(\u001b[49m\n\u001b[0;32m    496\u001b[0m \u001b[43m        \u001b[49m\u001b[43mio\u001b[49m\u001b[43m,\u001b[49m\n\u001b[0;32m    497\u001b[0m \u001b[43m        \u001b[49m\u001b[43mstorage_options\u001b[49m\u001b[38;5;241;43m=\u001b[39;49m\u001b[43mstorage_options\u001b[49m\u001b[43m,\u001b[49m\n\u001b[0;32m    498\u001b[0m \u001b[43m        \u001b[49m\u001b[43mengine\u001b[49m\u001b[38;5;241;43m=\u001b[39;49m\u001b[43mengine\u001b[49m\u001b[43m,\u001b[49m\n\u001b[0;32m    499\u001b[0m \u001b[43m        \u001b[49m\u001b[43mengine_kwargs\u001b[49m\u001b[38;5;241;43m=\u001b[39;49m\u001b[43mengine_kwargs\u001b[49m\u001b[43m,\u001b[49m\n\u001b[0;32m    500\u001b[0m \u001b[43m    \u001b[49m\u001b[43m)\u001b[49m\n\u001b[0;32m    501\u001b[0m \u001b[38;5;28;01melif\u001b[39;00m engine \u001b[38;5;129;01mand\u001b[39;00m engine \u001b[38;5;241m!=\u001b[39m io\u001b[38;5;241m.\u001b[39mengine:\n\u001b[0;32m    502\u001b[0m     \u001b[38;5;28;01mraise\u001b[39;00m \u001b[38;5;167;01mValueError\u001b[39;00m(\n\u001b[0;32m    503\u001b[0m         \u001b[38;5;124m\"\u001b[39m\u001b[38;5;124mEngine should not be specified when passing \u001b[39m\u001b[38;5;124m\"\u001b[39m\n\u001b[0;32m    504\u001b[0m         \u001b[38;5;124m\"\u001b[39m\u001b[38;5;124man ExcelFile - ExcelFile already has the engine set\u001b[39m\u001b[38;5;124m\"\u001b[39m\n\u001b[0;32m    505\u001b[0m     )\n",
      "File \u001b[1;32mc:\\Users\\maria\\AppData\\Local\\Programs\\Python\\Python312\\Lib\\site-packages\\pandas\\io\\excel\\_base.py:1567\u001b[0m, in \u001b[0;36mExcelFile.__init__\u001b[1;34m(self, path_or_buffer, engine, storage_options, engine_kwargs)\u001b[0m\n\u001b[0;32m   1564\u001b[0m \u001b[38;5;28mself\u001b[39m\u001b[38;5;241m.\u001b[39mengine \u001b[38;5;241m=\u001b[39m engine\n\u001b[0;32m   1565\u001b[0m \u001b[38;5;28mself\u001b[39m\u001b[38;5;241m.\u001b[39mstorage_options \u001b[38;5;241m=\u001b[39m storage_options\n\u001b[1;32m-> 1567\u001b[0m \u001b[38;5;28mself\u001b[39m\u001b[38;5;241m.\u001b[39m_reader \u001b[38;5;241m=\u001b[39m \u001b[38;5;28;43mself\u001b[39;49m\u001b[38;5;241;43m.\u001b[39;49m\u001b[43m_engines\u001b[49m\u001b[43m[\u001b[49m\u001b[43mengine\u001b[49m\u001b[43m]\u001b[49m\u001b[43m(\u001b[49m\n\u001b[0;32m   1568\u001b[0m \u001b[43m    \u001b[49m\u001b[38;5;28;43mself\u001b[39;49m\u001b[38;5;241;43m.\u001b[39;49m\u001b[43m_io\u001b[49m\u001b[43m,\u001b[49m\n\u001b[0;32m   1569\u001b[0m \u001b[43m    \u001b[49m\u001b[43mstorage_options\u001b[49m\u001b[38;5;241;43m=\u001b[39;49m\u001b[43mstorage_options\u001b[49m\u001b[43m,\u001b[49m\n\u001b[0;32m   1570\u001b[0m \u001b[43m    \u001b[49m\u001b[43mengine_kwargs\u001b[49m\u001b[38;5;241;43m=\u001b[39;49m\u001b[43mengine_kwargs\u001b[49m\u001b[43m,\u001b[49m\n\u001b[0;32m   1571\u001b[0m \u001b[43m\u001b[49m\u001b[43m)\u001b[49m\n",
      "File \u001b[1;32mc:\\Users\\maria\\AppData\\Local\\Programs\\Python\\Python312\\Lib\\site-packages\\pandas\\io\\excel\\_openpyxl.py:552\u001b[0m, in \u001b[0;36mOpenpyxlReader.__init__\u001b[1;34m(self, filepath_or_buffer, storage_options, engine_kwargs)\u001b[0m\n\u001b[0;32m    534\u001b[0m \u001b[38;5;129m@doc\u001b[39m(storage_options\u001b[38;5;241m=\u001b[39m_shared_docs[\u001b[38;5;124m\"\u001b[39m\u001b[38;5;124mstorage_options\u001b[39m\u001b[38;5;124m\"\u001b[39m])\n\u001b[0;32m    535\u001b[0m \u001b[38;5;28;01mdef\u001b[39;00m \u001b[38;5;21m__init__\u001b[39m(\n\u001b[0;32m    536\u001b[0m     \u001b[38;5;28mself\u001b[39m,\n\u001b[1;32m   (...)\u001b[0m\n\u001b[0;32m    539\u001b[0m     engine_kwargs: \u001b[38;5;28mdict\u001b[39m \u001b[38;5;241m|\u001b[39m \u001b[38;5;28;01mNone\u001b[39;00m \u001b[38;5;241m=\u001b[39m \u001b[38;5;28;01mNone\u001b[39;00m,\n\u001b[0;32m    540\u001b[0m ) \u001b[38;5;241m-\u001b[39m\u001b[38;5;241m>\u001b[39m \u001b[38;5;28;01mNone\u001b[39;00m:\n\u001b[0;32m    541\u001b[0m \u001b[38;5;250m    \u001b[39m\u001b[38;5;124;03m\"\"\"\u001b[39;00m\n\u001b[0;32m    542\u001b[0m \u001b[38;5;124;03m    Reader using openpyxl engine.\u001b[39;00m\n\u001b[0;32m    543\u001b[0m \n\u001b[1;32m   (...)\u001b[0m\n\u001b[0;32m    550\u001b[0m \u001b[38;5;124;03m        Arbitrary keyword arguments passed to excel engine.\u001b[39;00m\n\u001b[0;32m    551\u001b[0m \u001b[38;5;124;03m    \"\"\"\u001b[39;00m\n\u001b[1;32m--> 552\u001b[0m     \u001b[43mimport_optional_dependency\u001b[49m\u001b[43m(\u001b[49m\u001b[38;5;124;43m\"\u001b[39;49m\u001b[38;5;124;43mopenpyxl\u001b[39;49m\u001b[38;5;124;43m\"\u001b[39;49m\u001b[43m)\u001b[49m\n\u001b[0;32m    553\u001b[0m     \u001b[38;5;28msuper\u001b[39m()\u001b[38;5;241m.\u001b[39m\u001b[38;5;21m__init__\u001b[39m(\n\u001b[0;32m    554\u001b[0m         filepath_or_buffer,\n\u001b[0;32m    555\u001b[0m         storage_options\u001b[38;5;241m=\u001b[39mstorage_options,\n\u001b[0;32m    556\u001b[0m         engine_kwargs\u001b[38;5;241m=\u001b[39mengine_kwargs,\n\u001b[0;32m    557\u001b[0m     )\n",
      "File \u001b[1;32mc:\\Users\\maria\\AppData\\Local\\Programs\\Python\\Python312\\Lib\\site-packages\\pandas\\compat\\_optional.py:138\u001b[0m, in \u001b[0;36mimport_optional_dependency\u001b[1;34m(name, extra, errors, min_version)\u001b[0m\n\u001b[0;32m    136\u001b[0m \u001b[38;5;28;01mexcept\u001b[39;00m \u001b[38;5;167;01mImportError\u001b[39;00m:\n\u001b[0;32m    137\u001b[0m     \u001b[38;5;28;01mif\u001b[39;00m errors \u001b[38;5;241m==\u001b[39m \u001b[38;5;124m\"\u001b[39m\u001b[38;5;124mraise\u001b[39m\u001b[38;5;124m\"\u001b[39m:\n\u001b[1;32m--> 138\u001b[0m         \u001b[38;5;28;01mraise\u001b[39;00m \u001b[38;5;167;01mImportError\u001b[39;00m(msg)\n\u001b[0;32m    139\u001b[0m     \u001b[38;5;28;01mreturn\u001b[39;00m \u001b[38;5;28;01mNone\u001b[39;00m\n\u001b[0;32m    141\u001b[0m \u001b[38;5;66;03m# Handle submodules: if we have submodule, grab parent module from sys.modules\u001b[39;00m\n",
      "\u001b[1;31mImportError\u001b[0m: Missing optional dependency 'openpyxl'.  Use pip or conda to install openpyxl."
     ]
    }
   ],
   "source": [
    "# opening the comparissons\n",
    "\n",
    "import pandas as pd\n",
    "\n",
    "pairwise_age=pd.read_excel(linkGoogle,sheet_name='age', index_col=0)\n",
    "pairwise_experience=pd.read_excel(linkGoogle,sheet_name='experience', index_col=0)\n",
    "pairwise_education=pd.read_excel(linkGoogle,sheet_name='education', index_col=0)\n",
    "pairwise_charisma=pd.read_excel(linkGoogle,sheet_name='charisma', index_col=0)\n",
    "pairwise_criteria=pd.read_excel(linkGoogle,sheet_name='criteria', index_col=0)"
   ]
  },
  {
   "cell_type": "markdown",
   "id": "5f775058-f007-4d9a-8655-98021ef0a1e0",
   "metadata": {
    "id": "5f775058-f007-4d9a-8655-98021ef0a1e0"
   },
   "source": [
    "You may want to check the structure:"
   ]
  },
  {
   "cell_type": "code",
   "execution_count": null,
   "id": "bb707240-1275-4408-9471-7842c7b43c85",
   "metadata": {
    "id": "bb707240-1275-4408-9471-7842c7b43c85"
   },
   "outputs": [],
   "source": [
    "pairwise_criteria"
   ]
  },
  {
   "cell_type": "markdown",
   "id": "cc2b0d2d-68f7-4f44-a016-7ade98c2edc0",
   "metadata": {
    "id": "cc2b0d2d-68f7-4f44-a016-7ade98c2edc0"
   },
   "source": [
    "4. Transform all matrices into pairwise comparissons:"
   ]
  },
  {
   "cell_type": "code",
   "execution_count": null,
   "id": "7489673e-1160-4fb9-af4e-17bd6c3d47b5",
   "metadata": {
    "id": "7489673e-1160-4fb9-af4e-17bd6c3d47b5"
   },
   "outputs": [],
   "source": [
    "import networkx as nx\n",
    "\n",
    "G_age = nx.from_pandas_adjacency(pairwise_age,create_using=nx.MultiDiGraph())\n",
    "\n",
    "# pairwise\n",
    "G_age.edges(data=True)"
   ]
  },
  {
   "cell_type": "code",
   "execution_count": null,
   "id": "5c159762-70a2-4d13-aca5-77ad593cc8d7",
   "metadata": {
    "id": "5c159762-70a2-4d13-aca5-77ad593cc8d7"
   },
   "outputs": [],
   "source": [
    "# comparissons for age as dict\n",
    "age_comparisons ={(e[0],e[1]):e[2]['weight'] for e in G_age.edges(data=True) if e[0]!= e[1]}\n",
    "age_comparisons"
   ]
  },
  {
   "cell_type": "code",
   "execution_count": null,
   "id": "91910bf0-55d1-4001-adcd-aeb255486e32",
   "metadata": {
    "id": "91910bf0-55d1-4001-adcd-aeb255486e32"
   },
   "outputs": [],
   "source": [
    "# the remaining comparissons:\n",
    "\n",
    "G_exp = nx.from_pandas_adjacency(pairwise_experience,create_using=nx.MultiDiGraph())\n",
    "experience_comparisons={(e[0],e[1]):e[2]['weight'] for e in G_exp.edges(data=True) if e[0]!= e[1]}\n",
    "\n",
    "G_edu = nx.from_pandas_adjacency(pairwise_education,create_using=nx.MultiDiGraph())\n",
    "education_comparisons={(e[0],e[1]):e[2]['weight'] for e in G_edu.edges(data=True) if e[0]!= e[1]}\n",
    "\n",
    "G_cha = nx.from_pandas_adjacency(pairwise_charisma,create_using=nx.MultiDiGraph())\n",
    "charisma_comparisons={(e[0],e[1]):e[2]['weight'] for e in G_cha.edges(data=True) if e[0]!= e[1]}"
   ]
  },
  {
   "cell_type": "code",
   "execution_count": null,
   "id": "1a060b13-70ec-4121-bf45-a073435eca58",
   "metadata": {
    "id": "1a060b13-70ec-4121-bf45-a073435eca58"
   },
   "outputs": [],
   "source": [
    "# take a look\n",
    "[age_comparisons, experience_comparisons,education_comparisons,charisma_comparisons]"
   ]
  },
  {
   "cell_type": "code",
   "execution_count": null,
   "id": "c84996bc-4941-42cb-8855-54c72a6737a9",
   "metadata": {
    "id": "c84996bc-4941-42cb-8855-54c72a6737a9"
   },
   "outputs": [],
   "source": [
    "# now the criteria\n",
    "\n",
    "G_CRIT = nx.from_pandas_adjacency(pairwise_criteria,create_using=nx.MultiDiGraph())\n",
    "criteria_comparisons ={(e[0],e[1]):e[2]['weight'] for e in G_CRIT.edges(data=True) if e[0]!= e[1]}\n",
    "criteria_comparisons"
   ]
  },
  {
   "cell_type": "markdown",
   "id": "537c0ad5-e1b0-4d49-a60c-e7a3a0d95c2d",
   "metadata": {
    "id": "537c0ad5-e1b0-4d49-a60c-e7a3a0d95c2d"
   },
   "source": [
    "5. Apply the Algorithm"
   ]
  },
  {
   "cell_type": "code",
   "execution_count": null,
   "id": "69e67f1d-408e-446b-9991-0566a0aaee5b",
   "metadata": {
    "id": "69e67f1d-408e-446b-9991-0566a0aaee5b"
   },
   "outputs": [],
   "source": [
    "## install\n",
    "# !pip install ahpy"
   ]
  },
  {
   "cell_type": "code",
   "execution_count": null,
   "id": "16ec39e8-0c5e-4803-8a05-00b354bc2133",
   "metadata": {
    "id": "16ec39e8-0c5e-4803-8a05-00b354bc2133"
   },
   "outputs": [],
   "source": [
    "# input each comparisson\n",
    "\n",
    "import ahpy\n",
    "\n",
    "experience = ahpy.Compare('experience', experience_comparisons, precision=3, random_index='saaty')\n",
    "education = ahpy.Compare('education', education_comparisons, precision=3, random_index='saaty')\n",
    "charisma = ahpy.Compare('charisma', charisma_comparisons, precision=3, random_index='saaty')\n",
    "age = ahpy.Compare('age', age_comparisons, precision=3, random_index='saaty')\n",
    "criteria = ahpy.Compare('criteria', criteria_comparisons, precision=3, random_index='saaty')"
   ]
  },
  {
   "cell_type": "markdown",
   "id": "e6ab4dfb-efc1-4940-adf9-21e2940fcb33",
   "metadata": {
    "id": "e6ab4dfb-efc1-4940-adf9-21e2940fcb33"
   },
   "source": [
    "6. Create hierarchy:"
   ]
  },
  {
   "cell_type": "code",
   "execution_count": null,
   "id": "7cdf93ec-edf1-4127-8734-885d6da1c855",
   "metadata": {
    "id": "7cdf93ec-edf1-4127-8734-885d6da1c855"
   },
   "outputs": [],
   "source": [
    "criteria.add_children([experience, education, charisma, age])"
   ]
  },
  {
   "cell_type": "markdown",
   "id": "ebc25b0c-6a21-439e-a4da-6c8d5e50797d",
   "metadata": {
    "id": "ebc25b0c-6a21-439e-a4da-6c8d5e50797d"
   },
   "source": [
    "7. See result:"
   ]
  },
  {
   "cell_type": "code",
   "execution_count": null,
   "id": "ba46787a-e341-4867-9321-412f8be5a92a",
   "metadata": {
    "id": "ba46787a-e341-4867-9321-412f8be5a92a"
   },
   "outputs": [],
   "source": [
    "print(criteria.target_weights)"
   ]
  },
  {
   "cell_type": "markdown",
   "id": "2dc9dcde-7d2b-4bb8-8d93-c16b73f4347b",
   "metadata": {
    "id": "2dc9dcde-7d2b-4bb8-8d93-c16b73f4347b"
   },
   "source": [
    "8. Assess consistency"
   ]
  },
  {
   "cell_type": "code",
   "execution_count": null,
   "id": "c07344a5-0ed2-4d7a-9f44-a284a3ee122b",
   "metadata": {
    "id": "c07344a5-0ed2-4d7a-9f44-a284a3ee122b"
   },
   "outputs": [],
   "source": [
    "## We should review comparissons if greater than 0.1!\n",
    "[(val.name,val.consistency_ratio) for val in [experience, education, charisma, age, criteria]]"
   ]
  },
  {
   "cell_type": "markdown",
   "id": "b50bc5f6-7d5d-4a90-bf30-ec0cd2e9aaac",
   "metadata": {
    "id": "b50bc5f6-7d5d-4a90-bf30-ec0cd2e9aaac"
   },
   "source": [
    "<div class=\"alert-success\">\n",
    "\n",
    "<strong>Exercise: Choosing a country for a Master Program</strong>\n",
    "\n",
    "- Make a group of 4 people from this course.\n",
    "- If you have the criteria: cost of living, language difficulty, possibilities to get a job in that country after studies are finished.\n",
    "- If you have the alternatives: Brazil, Spain, USA, Germany.\n",
    "- Create an AHP model and get the ranking.\n",
    "\n",
    "You can follow this [example](https://en.wikipedia.org/wiki/Analytic_hierarchy_process_%E2%80%93_leader_example).\n",
    "If you have a better idea, you can use it instead."
   ]
  },
  {
   "cell_type": "markdown",
   "id": "60f6a0b9-872e-40c1-b681-64d6a9dc26e2",
   "metadata": {
    "id": "60f6a0b9-872e-40c1-b681-64d6a9dc26e2"
   },
   "source": [
    "# Part 3: Benchmarking"
   ]
  },
  {
   "cell_type": "markdown",
   "id": "3552b7d8-df4d-4c4f-80e5-bfbe4f2211af",
   "metadata": {
    "id": "3552b7d8-df4d-4c4f-80e5-bfbe4f2211af"
   },
   "source": [
    "Imagine you have this [information](https://www.sciencedirect.com/science/article/abs/pii/S0377221711007168):"
   ]
  },
  {
   "cell_type": "code",
   "execution_count": null,
   "id": "908e917e-bed6-488b-9a6b-dafbe5f6d1e5",
   "metadata": {
    "id": "908e917e-bed6-488b-9a6b-dafbe5f6d1e5"
   },
   "outputs": [],
   "source": [
    "airline=pd.read_csv(\"airlines_data.csv\")\n",
    "airline"
   ]
  },
  {
   "cell_type": "markdown",
   "id": "10e0fa9a-0cbc-4be6-86a3-e6a457f5e201",
   "metadata": {
    "id": "10e0fa9a-0cbc-4be6-86a3-e6a457f5e201"
   },
   "source": [
    "The first three variables (Aircraft,Fuel,Employee) represent **inputs** and the last two ones represent **outputs**. If that is so, there should be a way to compute some measure of efficiency: the ratio **output/input**.\n",
    "\n",
    "Let's compute some ratios:"
   ]
  },
  {
   "cell_type": "code",
   "execution_count": null,
   "id": "6f5812f5-d64b-4d05-91e7-57159dbc6368",
   "metadata": {
    "id": "6f5812f5-d64b-4d05-91e7-57159dbc6368"
   },
   "outputs": [],
   "source": [
    "# ratio passenger employee:\n",
    "airline['rate_ClientsByEmployee']=(airline.Passenger/airline.Employee)\n",
    "airline['rate_CargoByFleet']=(airline.Freight/airline.Aircraft)"
   ]
  },
  {
   "cell_type": "markdown",
   "id": "dd7ee6d4-1673-4976-a4a6-2f10b3de2135",
   "metadata": {
    "id": "dd7ee6d4-1673-4976-a4a6-2f10b3de2135"
   },
   "source": [
    "Let me plot those ratios:"
   ]
  },
  {
   "cell_type": "code",
   "execution_count": null,
   "id": "2f2c746f-28fb-4e24-92d2-aaffc4af7658",
   "metadata": {
    "id": "2f2c746f-28fb-4e24-92d2-aaffc4af7658"
   },
   "outputs": [],
   "source": [
    "import altair as alt\n",
    "\n",
    "points = alt.Chart(airline).mark_point().encode(\n",
    "    x='rate_ClientsByEmployee:Q',\n",
    "    y='rate_CargoByFleet:Q'\n",
    ")\n",
    "\n",
    "text = points.mark_text(\n",
    "    align='right',\n",
    "    baseline='middle',\n",
    "    dx=-7\n",
    ").encode(\n",
    "    text='name'\n",
    ").interactive()\n",
    "\n",
    "points + text"
   ]
  },
  {
   "cell_type": "markdown",
   "id": "c0665021-e733-4e7d-bf03-fca028b269c9",
   "metadata": {
    "id": "c0665021-e733-4e7d-bf03-fca028b269c9"
   },
   "source": [
    "Which one is more efficient? As you see, one airline might not be good in both ratios:"
   ]
  },
  {
   "cell_type": "code",
   "execution_count": null,
   "id": "9333f68a-1e25-4d03-907d-f142a623823f",
   "metadata": {
    "id": "9333f68a-1e25-4d03-907d-f142a623823f"
   },
   "outputs": [],
   "source": [
    "airline[['name','rate_ClientsByEmployee','rate_CargoByFleet']].sort_values(by='rate_ClientsByEmployee',ascending=False).head()"
   ]
  },
  {
   "cell_type": "code",
   "execution_count": null,
   "id": "3c2a7e8b-71ba-4f97-a0de-1e4bc02f285f",
   "metadata": {
    "id": "3c2a7e8b-71ba-4f97-a0de-1e4bc02f285f"
   },
   "outputs": [],
   "source": [
    "airline[['name','rate_ClientsByEmployee','rate_CargoByFleet']].sort_values(by='rate_CargoByFleet',ascending=False).head()"
   ]
  },
  {
   "cell_type": "markdown",
   "id": "d22cef46-f69f-4ca0-bfe0-69e4d6cd2f81",
   "metadata": {
    "id": "d22cef46-f69f-4ca0-bfe0-69e4d6cd2f81"
   },
   "source": [
    "Let me show you the **envelope**:"
   ]
  },
  {
   "cell_type": "code",
   "execution_count": null,
   "id": "d71901fd-13dc-45c1-b01f-39005c3b04a7",
   "metadata": {
    "id": "d71901fd-13dc-45c1-b01f-39005c3b04a7"
   },
   "outputs": [],
   "source": [
    "Best_ClientsByEmployee=airline.rate_ClientsByEmployee.idxmax()\n",
    "Best_CargoByFleet=airline.rate_CargoByFleet.idxmax()\n",
    "\n",
    "frontier1=airline.loc[Best_ClientsByEmployee,['rate_ClientsByEmployee','rate_CargoByFleet']].to_list()\n",
    "frontier2=airline.loc[Best_CargoByFleet,['rate_ClientsByEmployee','rate_CargoByFleet']].to_list()\n",
    "\n",
    "#parallels\n",
    "frontier1v=[frontier1[0],0]\n",
    "frontier2h=[0,frontier2[1]]\n",
    "\n",
    "#then\n",
    "envelope=pd.DataFrame([frontier2h,frontier2,frontier1,frontier1v],columns=['x','y'])\n",
    "envelope"
   ]
  },
  {
   "cell_type": "markdown",
   "id": "d4253373-1d5a-4944-a782-922959dd399b",
   "metadata": {
    "id": "d4253373-1d5a-4944-a782-922959dd399b"
   },
   "source": [
    "Updating the plot:"
   ]
  },
  {
   "cell_type": "code",
   "execution_count": null,
   "id": "ca1f47ef-b224-4141-aade-887208a19fa5",
   "metadata": {
    "id": "ca1f47ef-b224-4141-aade-887208a19fa5"
   },
   "outputs": [],
   "source": [
    "points + text + alt.Chart(envelope).mark_line(color='red').encode(\n",
    "    x='x',\n",
    "    y='y',\n",
    ")"
   ]
  },
  {
   "cell_type": "markdown",
   "id": "2ef65583-5277-43fd-8338-080d7f7d8525",
   "metadata": {
    "id": "2ef65583-5277-43fd-8338-080d7f7d8525"
   },
   "source": [
    "The presence of several units (DMUs), several inputs, and several outputs makes it difficult to judge who is doing better. This an optimization problem that may be carried out using **Pyfrontier**:"
   ]
  },
  {
   "cell_type": "code",
   "execution_count": null,
   "id": "4247566e-f442-4151-a776-d5aafbe4e93e",
   "metadata": {
    "id": "4247566e-f442-4151-a776-d5aafbe4e93e"
   },
   "outputs": [],
   "source": [
    "## installation\n",
    "# pip install Pyfrontier"
   ]
  },
  {
   "cell_type": "markdown",
   "id": "59b0f779-fa22-4c99-9346-2e25aa80afbc",
   "metadata": {
    "id": "59b0f779-fa22-4c99-9346-2e25aa80afbc"
   },
   "source": [
    "Let me recover the names for each group of variables:"
   ]
  },
  {
   "cell_type": "code",
   "execution_count": null,
   "id": "e157f107-913d-4877-b1a3-3bae3e0e93e9",
   "metadata": {
    "id": "e157f107-913d-4877-b1a3-3bae3e0e93e9"
   },
   "outputs": [],
   "source": [
    "airlineInput=airline.columns[1:4].to_list()\n",
    "airlineOutput=airline.columns[4:6].to_list()"
   ]
  },
  {
   "cell_type": "markdown",
   "id": "9b202766-484f-4b33-8cc4-235059540290",
   "metadata": {
    "id": "9b202766-484f-4b33-8cc4-235059540290"
   },
   "source": [
    "Let's apply the function:"
   ]
  },
  {
   "cell_type": "code",
   "execution_count": null,
   "id": "8d077a3c-08f5-4ee2-98fe-36cc707522b9",
   "metadata": {
    "id": "8d077a3c-08f5-4ee2-98fe-36cc707522b9"
   },
   "outputs": [],
   "source": [
    "from Pyfrontier.frontier_model import EnvelopDEA\n",
    "\n",
    "dea_air_vrs_in = EnvelopDEA(\"VRS\", \"in\")\n",
    "dea_air_vrs_in.fit(\n",
    "    inputs=airline[airlineInput].to_numpy(),\n",
    "    outputs=airline[airlineOutput].to_numpy()\n",
    ")"
   ]
  },
  {
   "cell_type": "markdown",
   "id": "d7d42a32-693a-4c39-9153-588466d2df0f",
   "metadata": {
    "id": "d7d42a32-693a-4c39-9153-588466d2df0f"
   },
   "source": [
    "Here is the result:"
   ]
  },
  {
   "cell_type": "code",
   "execution_count": null,
   "id": "85a16e24-54fa-4558-a9b3-f0165c078a99",
   "metadata": {
    "id": "85a16e24-54fa-4558-a9b3-f0165c078a99"
   },
   "outputs": [],
   "source": [
    "airline['vrs_in']=[r.score for r in dea_air_vrs_in.result]\n",
    "airline.set_index(airline.name,inplace=True)\n",
    "airline['vrs_in']"
   ]
  },
  {
   "cell_type": "markdown",
   "id": "fb60762d-fdf7-4a0a-8565-faa149f3c55b",
   "metadata": {
    "id": "fb60762d-fdf7-4a0a-8565-faa149f3c55b"
   },
   "source": [
    "At this stage, you may be tempted to do a regression:"
   ]
  },
  {
   "cell_type": "code",
   "execution_count": null,
   "id": "aec8fe2a-09f2-400c-960b-2b12450c35a8",
   "metadata": {
    "id": "aec8fe2a-09f2-400c-960b-2b12450c35a8"
   },
   "outputs": [],
   "source": [
    "# !pip install py4etrics\n"
   ]
  },
  {
   "cell_type": "code",
   "execution_count": null,
   "id": "db3f11f1-6520-4303-9dc9-e7352153afb0",
   "metadata": {
    "id": "db3f11f1-6520-4303-9dc9-e7352153afb0"
   },
   "outputs": [],
   "source": [
    "import numpy as np # linear algebra\n",
    "from py4etrics import tobit\n",
    "# import statsmodels.api as sm\n",
    "\n",
    "airline['censored'] =np.where(airline['vrs_in']==1, 1, 0)\n",
    "cens = airline['censored']\n",
    "endog = airline.loc[:,'vrs_in']\n",
    "exog = airline.loc[:,'Aircraft':'Freight']\n",
    "\n",
    "tobit_res = tobit.Tobit(endog, exog, cens,right=1).fit()\n",
    "tobit_res.summary()"
   ]
  },
  {
   "cell_type": "markdown",
   "id": "e58be274-861d-47a3-badf-007a73bd433c",
   "metadata": {
    "id": "e58be274-861d-47a3-badf-007a73bd433c"
   },
   "source": [
    "<div class=\"alert-success\">\n",
    "\n",
    "<strong>Exercise: Efficiency in Public sector</strong>\n",
    "\n",
    "- Make a group of 2 people from this course.\n",
    "- Find a set of municipalities (homogenity required).\n",
    "- Find a set of common input and out variables for them.\n",
    "- Compute efficiency."
   ]
  }
 ],
 "metadata": {
  "colab": {
   "provenance": []
  },
  "kernelspec": {
   "display_name": "Python 3",
   "language": "python",
   "name": "python3"
  },
  "language_info": {
   "codemirror_mode": {
    "name": "ipython",
    "version": 3
   },
   "file_extension": ".py",
   "mimetype": "text/x-python",
   "name": "python",
   "nbconvert_exporter": "python",
   "pygments_lexer": "ipython3",
   "version": "3.12.5"
  }
 },
 "nbformat": 4,
 "nbformat_minor": 5
}
