{
 "cells": [
  {
   "cell_type": "markdown",
   "metadata": {},
   "source": [
    "# Introducción para la optimización en la toma de decisiones\n",
    "- Alumna: Rosa Huamaní Pucho - 20200422"
   ]
  },
  {
   "cell_type": "markdown",
   "metadata": {},
   "source": [
    "## Ejercicio 1: el problema de la dieta\n",
    "---\n"
   ]
  },
  {
   "cell_type": "code",
   "execution_count": 1,
   "metadata": {},
   "outputs": [
    {
     "data": {
      "text/html": [
       "<iframe src=\"https://docs.google.com/presentation/d/e/2PACX-1vTSq9X74urGAB_5n_MIJ9ZGIboKSvBdokVTBXVLh_qqZnmLRTJioOF431Rzys3Qi9UaFwWXjeq6Wmd5/embed?start=false&loop=false&delayms=3000\" frameborder=\"0\" width=\"960\" height=\"569\" allowfullscreen=\"true\" mozallowfullscreen=\"true\" webkitallowfullscreen=\"true\"></iframe>\n"
      ],
      "text/plain": [
       "<IPython.core.display.HTML object>"
      ]
     },
     "metadata": {},
     "output_type": "display_data"
    }
   ],
   "source": [
    "%%html\n",
    "<iframe src=\"https://docs.google.com/presentation/d/e/2PACX-1vTSq9X74urGAB_5n_MIJ9ZGIboKSvBdokVTBXVLh_qqZnmLRTJioOF431Rzys3Qi9UaFwWXjeq6Wmd5/embed?start=false&loop=false&delayms=3000\" frameborder=\"0\" width=\"960\" height=\"569\" allowfullscreen=\"true\" mozallowfullscreen=\"true\" webkitallowfullscreen=\"true\"></iframe>"
   ]
  },
  {
   "cell_type": "markdown",
   "metadata": {},
   "source": [
    "### Paso 1: inciciamos el modelo"
   ]
  },
  {
   "cell_type": "code",
   "execution_count": 3,
   "metadata": {},
   "outputs": [],
   "source": [
    "import pulp as pp"
   ]
  },
  {
   "cell_type": "code",
   "execution_count": 4,
   "metadata": {},
   "outputs": [],
   "source": [
    "model = pp.LpProblem(name='dieta-problem', # just the name\n",
    "                     sense=pp.LpMinimize) # type of problem"
   ]
  },
  {
   "cell_type": "markdown",
   "metadata": {},
   "source": [
    "### Paso 2: declarar las VARIABLES"
   ]
  },
  {
   "cell_type": "code",
   "execution_count": 6,
   "metadata": {},
   "outputs": [],
   "source": [
    "# cuanto de VegaVita?\n",
    "VegaVita = pp.LpVariable(name=\"VegaVita\",  \n",
    "                    lowBound=0,  \n",
    "                    cat='Continuous')\n",
    "\n",
    "# cuanto de HappyHealth?\n",
    "HappyHealth = pp.LpVariable(name=\"HappyHealth\",\n",
    "                 lowBound=0,\n",
    "                 cat='Continuous')"
   ]
  },
  {
   "cell_type": "markdown",
   "metadata": {},
   "source": [
    "### Paso 3: creamos la función para optimizar"
   ]
  },
  {
   "cell_type": "code",
   "execution_count": 7,
   "metadata": {},
   "outputs": [],
   "source": [
    "VegaVitaCoeff=0.2\n",
    "HappyHealthCoeff=0.3\n",
    "obj_func = VegaVitaCoeff*VegaVita + HappyHealthCoeff*HappyHealth"
   ]
  },
  {
   "cell_type": "markdown",
   "metadata": {},
   "source": [
    "### Paso 4: representamos las restricciones"
   ]
  },
  {
   "cell_type": "code",
   "execution_count": null,
   "metadata": {},
   "outputs": [],
   "source": [
    "C1= pp.LpConstraint(name='vitaminac Constraint',   # just the name\n",
    "                    e= 20*VegaVita + 30*HappyHealth, rhs=60, # linear combination of constraint and rhs\n",
    "                    sense=pp.LpConstraintGE) \n",
    "C2= pp.LpConstraint(name='calcio Constraint',   \n",
    "                    e= 500*VegaVita + 250*HappyHealth, rhs=1000, \n",
    "                    sense=pp.LpConstraintGE) \n",
    "C3= pp.LpConstraint(name='hierro Constraint',   \n",
    "                    e= 9*VegaVita + 2*HappyHealth, rhs=18, \n",
    "                    sense=pp.LpConstraintGE) \n",
    "C4= pp.LpConstraint(name='niacina Constraint',   \n",
    "                    e= 2*VegaVita + 10*HappyHealth, rhs=20, \n",
    "                    sense=pp.LpConstraintGE)\n",
    "C5= pp.LpConstraint(name='magnesio Constraint',   \n",
    "                    e= 60*VegaVita + 90*HappyHealth, rhs=360, \n",
    "                    sense=pp.LpConstraintGE)  "
   ]
  },
  {
   "cell_type": "markdown",
   "metadata": {},
   "source": [
    "### Paso 5: Construyendo el modelo"
   ]
  },
  {
   "cell_type": "code",
   "execution_count": 9,
   "metadata": {},
   "outputs": [],
   "source": [
    "model += obj_func\n",
    "model += C1\n",
    "model += C2\n",
    "model += C3\n",
    "model += C4\n",
    "model += C5"
   ]
  },
  {
   "cell_type": "markdown",
   "metadata": {},
   "source": [
    "### Paso 6: resolviendo el modelo"
   ]
  },
  {
   "cell_type": "code",
   "execution_count": 10,
   "metadata": {},
   "outputs": [
    {
     "name": "stdout",
     "output_type": "stream",
     "text": [
      "['GLPK_CMD', 'PYGLPK', 'CPLEX_CMD', 'CPLEX_PY', 'GUROBI', 'GUROBI_CMD', 'MOSEK', 'XPRESS', 'XPRESS', 'XPRESS_PY', 'PULP_CBC_CMD', 'COIN_CMD', 'COINMP_DLL', 'CHOCO_CMD', 'MIPCL_CMD', 'SCIP_CMD', 'FSCIP_CMD', 'SCIP_PY', 'HiGHS', 'HiGHS_CMD', 'COPT', 'COPT_DLL', 'COPT_CMD']\n"
     ]
    }
   ],
   "source": [
    "solver_list = pp.listSolvers()\n",
    "print(solver_list)"
   ]
  },
  {
   "cell_type": "code",
   "execution_count": 11,
   "metadata": {},
   "outputs": [],
   "source": [
    "#solverToUse = pp.COIN_CMD(msg=False)\n",
    "model.solve(0);"
   ]
  },
  {
   "cell_type": "code",
   "execution_count": 12,
   "metadata": {},
   "outputs": [
    {
     "data": {
      "text/plain": [
       "{'Model Status': 'Optimal',\n",
       " 'Optimal Solution': 1.2,\n",
       " 'HappyHealth': 3.1304348,\n",
       " 'VegaVita': 1.3043478}"
      ]
     },
     "execution_count": 12,
     "metadata": {},
     "output_type": "execute_result"
    }
   ],
   "source": [
    "import pandas as pd\n",
    "\n",
    "Results={\"Model Status\":pp.LpStatus[model.status]}\n",
    "Results.update({\"Optimal Solution\":pp.value(model.objective)})\n",
    "Results.update({v.name: v.varValue for v in model.variables()})\n",
    "Results"
   ]
  },
  {
   "cell_type": "code",
   "execution_count": 13,
   "metadata": {},
   "outputs": [
    {
     "data": {
      "text/html": [
       "<style type=\"text/css\">\n",
       "</style>\n",
       "<table id=\"T_6d0d1\">\n",
       "  <thead>\n",
       "    <tr>\n",
       "      <th class=\"blank level0\" >&nbsp;</th>\n",
       "      <th id=\"T_6d0d1_level0_col0\" class=\"col_heading level0 col0\" >Optimal Solution</th>\n",
       "      <th id=\"T_6d0d1_level0_col1\" class=\"col_heading level0 col1\" >HappyHealth</th>\n",
       "      <th id=\"T_6d0d1_level0_col2\" class=\"col_heading level0 col2\" >VegaVita</th>\n",
       "    </tr>\n",
       "    <tr>\n",
       "      <th class=\"index_name level0\" >Model Status</th>\n",
       "      <th class=\"blank col0\" >&nbsp;</th>\n",
       "      <th class=\"blank col1\" >&nbsp;</th>\n",
       "      <th class=\"blank col2\" >&nbsp;</th>\n",
       "    </tr>\n",
       "  </thead>\n",
       "  <tbody>\n",
       "    <tr>\n",
       "      <th id=\"T_6d0d1_level0_row0\" class=\"row_heading level0 row0\" >Optimal</th>\n",
       "      <td id=\"T_6d0d1_row0_col0\" class=\"data row0 col0\" >1.2</td>\n",
       "      <td id=\"T_6d0d1_row0_col1\" class=\"data row0 col1\" >3.1304348</td>\n",
       "      <td id=\"T_6d0d1_row0_col2\" class=\"data row0 col2\" >1.3043478</td>\n",
       "    </tr>\n",
       "  </tbody>\n",
       "</table>\n"
      ],
      "text/plain": [
       "<pandas.io.formats.style.Styler at 0x20eff146ff0>"
      ]
     },
     "execution_count": 13,
     "metadata": {},
     "output_type": "execute_result"
    }
   ],
   "source": [
    "#or\n",
    "pd.DataFrame.from_dict(Results,orient='index').T.set_index('Model Status').style.format('{:,}')"
   ]
  },
  {
   "cell_type": "markdown",
   "metadata": {},
   "source": [
    "**Respuesta** : Para satisfacer los requerimientos nutricionales mínimos y gastar lo menos posible, el modelo sugiere adquirir aproximadamente 3.13 tabletas de HappyHealth y 1.30 tabletas de VegaVita, lo cual costaría $1.2 en total."
   ]
  },
  {
   "cell_type": "markdown",
   "metadata": {},
   "source": [
    "## Ejercicio 2: el problema de la dieta\n",
    "---"
   ]
  }
 ],
 "metadata": {
  "kernelspec": {
   "display_name": "Python 3",
   "language": "python",
   "name": "python3"
  },
  "language_info": {
   "codemirror_mode": {
    "name": "ipython",
    "version": 3
   },
   "file_extension": ".py",
   "mimetype": "text/x-python",
   "name": "python",
   "nbconvert_exporter": "python",
   "pygments_lexer": "ipython3",
   "version": "3.12.5"
  }
 },
 "nbformat": 4,
 "nbformat_minor": 2
}
