{
 "cells": [
  {
   "cell_type": "markdown",
   "metadata": {},
   "source": [
    "# Introducción para la optimización en la toma de decisiones\n",
    "- Alumna: Rosa Huamaní Pucho - 20200422"
   ]
  },
  {
   "cell_type": "markdown",
   "metadata": {},
   "source": [
    "## Ejercicio 1: el problema de la dieta\n",
    "---\n"
   ]
  },
  {
   "cell_type": "code",
   "execution_count": 1,
   "metadata": {},
   "outputs": [
    {
     "data": {
      "text/html": [
       "<iframe src=\"https://docs.google.com/presentation/d/e/2PACX-1vTSq9X74urGAB_5n_MIJ9ZGIboKSvBdokVTBXVLh_qqZnmLRTJioOF431Rzys3Qi9UaFwWXjeq6Wmd5/embed?start=false&loop=false&delayms=3000\" frameborder=\"0\" width=\"960\" height=\"569\" allowfullscreen=\"true\" mozallowfullscreen=\"true\" webkitallowfullscreen=\"true\"></iframe>\n"
      ],
      "text/plain": [
       "<IPython.core.display.HTML object>"
      ]
     },
     "metadata": {},
     "output_type": "display_data"
    }
   ],
   "source": [
    "%%html\n",
    "<iframe src=\"https://docs.google.com/presentation/d/e/2PACX-1vTSq9X74urGAB_5n_MIJ9ZGIboKSvBdokVTBXVLh_qqZnmLRTJioOF431Rzys3Qi9UaFwWXjeq6Wmd5/embed?start=false&loop=false&delayms=3000\" frameborder=\"0\" width=\"960\" height=\"569\" allowfullscreen=\"true\" mozallowfullscreen=\"true\" webkitallowfullscreen=\"true\"></iframe>"
   ]
  },
  {
   "cell_type": "markdown",
   "metadata": {},
   "source": [
    "### Paso 1: inciciamos el modelo"
   ]
  },
  {
   "cell_type": "code",
   "execution_count": 2,
   "metadata": {},
   "outputs": [],
   "source": [
    "import pulp as pp"
   ]
  },
  {
   "cell_type": "code",
   "execution_count": 3,
   "metadata": {},
   "outputs": [],
   "source": [
    "model = pp.LpProblem(name='dieta-problem', # just the name\n",
    "                     sense=pp.LpMinimize) # type of problem"
   ]
  },
  {
   "cell_type": "markdown",
   "metadata": {},
   "source": [
    "### Paso 2: declarar las VARIABLES"
   ]
  },
  {
   "cell_type": "code",
   "execution_count": 4,
   "metadata": {},
   "outputs": [],
   "source": [
    "# cuanto de VegaVita?\n",
    "VegaVita = pp.LpVariable(name=\"VegaVita\",  \n",
    "                    lowBound=0,  \n",
    "                    cat='Integer')\n",
    "\n",
    "# cuanto de HappyHealth?\n",
    "HappyHealth = pp.LpVariable(name=\"HappyHealth\",\n",
    "                 lowBound=0,\n",
    "                 cat='Integer')"
   ]
  },
  {
   "cell_type": "markdown",
   "metadata": {},
   "source": [
    "### Paso 3: creamos la función para optimizar"
   ]
  },
  {
   "cell_type": "code",
   "execution_count": 5,
   "metadata": {},
   "outputs": [],
   "source": [
    "VegaVitaCoeff=0.2\n",
    "HappyHealthCoeff=0.3\n",
    "obj_func = VegaVitaCoeff*VegaVita + HappyHealthCoeff*HappyHealth"
   ]
  },
  {
   "cell_type": "markdown",
   "metadata": {},
   "source": [
    "### Paso 4: representamos las restricciones"
   ]
  },
  {
   "cell_type": "code",
   "execution_count": 6,
   "metadata": {},
   "outputs": [],
   "source": [
    "C1= pp.LpConstraint(name='vitaminac Constraint',   # just the name\n",
    "                    e= 20*VegaVita + 30*HappyHealth, rhs=60, # linear combination of constraint and rhs\n",
    "                    sense=pp.LpConstraintGE) \n",
    "C2= pp.LpConstraint(name='calcio Constraint',   \n",
    "                    e= 500*VegaVita + 250*HappyHealth, rhs=1000, \n",
    "                    sense=pp.LpConstraintGE) \n",
    "C3= pp.LpConstraint(name='hierro Constraint',   \n",
    "                    e= 9*VegaVita + 2*HappyHealth, rhs=18, \n",
    "                    sense=pp.LpConstraintGE) \n",
    "C4= pp.LpConstraint(name='niacina Constraint',   \n",
    "                    e= 2*VegaVita + 10*HappyHealth, rhs=20, \n",
    "                    sense=pp.LpConstraintGE)\n",
    "C5= pp.LpConstraint(name='magnesio Constraint',   \n",
    "                    e= 60*VegaVita + 90*HappyHealth, rhs=360, \n",
    "                    sense=pp.LpConstraintGE)  "
   ]
  },
  {
   "cell_type": "markdown",
   "metadata": {},
   "source": [
    "### Paso 5: Construyendo el modelo"
   ]
  },
  {
   "cell_type": "code",
   "execution_count": 7,
   "metadata": {},
   "outputs": [],
   "source": [
    "model += obj_func\n",
    "model += C1\n",
    "model += C2\n",
    "model += C3\n",
    "model += C4\n",
    "model += C5"
   ]
  },
  {
   "cell_type": "markdown",
   "metadata": {},
   "source": [
    "### Paso 6: resolviendo el modelo"
   ]
  },
  {
   "cell_type": "code",
   "execution_count": 8,
   "metadata": {},
   "outputs": [
    {
     "name": "stdout",
     "output_type": "stream",
     "text": [
      "['GLPK_CMD', 'PYGLPK', 'CPLEX_CMD', 'CPLEX_PY', 'GUROBI', 'GUROBI_CMD', 'MOSEK', 'XPRESS', 'XPRESS', 'XPRESS_PY', 'PULP_CBC_CMD', 'COIN_CMD', 'COINMP_DLL', 'CHOCO_CMD', 'MIPCL_CMD', 'SCIP_CMD', 'FSCIP_CMD', 'SCIP_PY', 'HiGHS', 'HiGHS_CMD', 'COPT', 'COPT_DLL', 'COPT_CMD']\n"
     ]
    }
   ],
   "source": [
    "solver_list = pp.listSolvers()\n",
    "print(solver_list)"
   ]
  },
  {
   "cell_type": "code",
   "execution_count": 9,
   "metadata": {},
   "outputs": [],
   "source": [
    "#solverToUse = pp.COIN_CMD(msg=False)\n",
    "model.solve(0);"
   ]
  },
  {
   "cell_type": "code",
   "execution_count": 10,
   "metadata": {},
   "outputs": [
    {
     "data": {
      "text/plain": [
       "{'Model Status': 'Optimal',\n",
       " 'Optimal Solution': 1.2000000000000002,\n",
       " 'HappyHealth': 2.0,\n",
       " 'VegaVita': 3.0}"
      ]
     },
     "execution_count": 10,
     "metadata": {},
     "output_type": "execute_result"
    }
   ],
   "source": [
    "import pandas as pd\n",
    "\n",
    "Results={\"Model Status\":pp.LpStatus[model.status]}\n",
    "Results.update({\"Optimal Solution\":pp.value(model.objective)})\n",
    "Results.update({v.name: v.varValue for v in model.variables()})\n",
    "Results"
   ]
  },
  {
   "cell_type": "code",
   "execution_count": 11,
   "metadata": {},
   "outputs": [
    {
     "data": {
      "text/html": [
       "<style type=\"text/css\">\n",
       "</style>\n",
       "<table id=\"T_007ed\">\n",
       "  <thead>\n",
       "    <tr>\n",
       "      <th class=\"blank level0\" >&nbsp;</th>\n",
       "      <th id=\"T_007ed_level0_col0\" class=\"col_heading level0 col0\" >Optimal Solution</th>\n",
       "      <th id=\"T_007ed_level0_col1\" class=\"col_heading level0 col1\" >HappyHealth</th>\n",
       "      <th id=\"T_007ed_level0_col2\" class=\"col_heading level0 col2\" >VegaVita</th>\n",
       "    </tr>\n",
       "    <tr>\n",
       "      <th class=\"index_name level0\" >Model Status</th>\n",
       "      <th class=\"blank col0\" >&nbsp;</th>\n",
       "      <th class=\"blank col1\" >&nbsp;</th>\n",
       "      <th class=\"blank col2\" >&nbsp;</th>\n",
       "    </tr>\n",
       "  </thead>\n",
       "  <tbody>\n",
       "    <tr>\n",
       "      <th id=\"T_007ed_level0_row0\" class=\"row_heading level0 row0\" >Optimal</th>\n",
       "      <td id=\"T_007ed_row0_col0\" class=\"data row0 col0\" >1.2000000000000002</td>\n",
       "      <td id=\"T_007ed_row0_col1\" class=\"data row0 col1\" >2.0</td>\n",
       "      <td id=\"T_007ed_row0_col2\" class=\"data row0 col2\" >3.0</td>\n",
       "    </tr>\n",
       "  </tbody>\n",
       "</table>\n"
      ],
      "text/plain": [
       "<pandas.io.formats.style.Styler at 0x1a27faf1c70>"
      ]
     },
     "execution_count": 11,
     "metadata": {},
     "output_type": "execute_result"
    }
   ],
   "source": [
    "#or\n",
    "pd.DataFrame.from_dict(Results,orient='index').T.set_index('Model Status').style.format('{:,}')"
   ]
  },
  {
   "cell_type": "markdown",
   "metadata": {},
   "source": [
    "**Respuesta** : Para satisfacer los requerimientos nutricionales mínimos y gastar lo menos posible, el modelo sugiere adquirir 2 tabletas de HappyHealth y 3 tabletas de VegaVita, lo cual costaría $1.2 en total."
   ]
  },
  {
   "cell_type": "markdown",
   "metadata": {},
   "source": [
    "## Ejercicio 2: minimizar el número de conductores\n",
    "---"
   ]
  },
  {
   "cell_type": "code",
   "execution_count": 12,
   "metadata": {},
   "outputs": [],
   "source": [
    "# Paso 1: iniciamos el modelo 2\n",
    "model2 = pp.LpProblem(name='horario-problem', \n",
    "                     sense=pp.LpMinimize) "
   ]
  },
  {
   "cell_type": "code",
   "execution_count": 13,
   "metadata": {},
   "outputs": [],
   "source": [
    "# ´Paso 2: declaramos las variables\n",
    "DR_0_8 = pp.LpVariable(name=\"DR_0_8\", lowBound=0, cat=\"Integer\")\n",
    "DR_4_12 = pp.LpVariable(name=\"DR_4_12\", lowBound=0, cat=\"Integer\")\n",
    "DR_8_16 = pp.LpVariable(name=\"DR_8_16\", lowBound=0, cat=\"Integer\")\n",
    "DR_12_20 = pp.LpVariable(name=\"DR_12_20\", lowBound=0, cat=\"Integer\")\n",
    "DR_16_0 = pp.LpVariable(name=\"DR_16_0\", lowBound=0, cat=\"Integer\")\n",
    "DR_20_4 = pp.LpVariable(name=\"DR_20_4\", lowBound=0, cat=\"Integer\")"
   ]
  },
  {
   "cell_type": "code",
   "execution_count": 14,
   "metadata": {},
   "outputs": [],
   "source": [
    "# Paso 3: creamos la función para optimizar\n",
    "model2 += (DR_0_8 + DR_4_12 + DR_8_16 + DR_12_20 + DR_16_0 + DR_20_4), \"Total Drivers\""
   ]
  },
  {
   "cell_type": "code",
   "execution_count": 15,
   "metadata": {},
   "outputs": [],
   "source": [
    "# Paso 4: presentamos las restricciones\n",
    "C1 = pp.LpConstraint(name=\"Shift_0_4\",\n",
    "                     e= DR_0_8 + DR_20_4,  \n",
    "                     rhs=4,               \n",
    "                     sense=pp.LpConstraintGE)\n",
    "\n",
    "C2 = pp.LpConstraint(name=\"Shift_4_8\",\n",
    "                     e= DR_0_8 + DR_4_12,\n",
    "                     rhs=8,\n",
    "                     sense=pp.LpConstraintGE)\n",
    "\n",
    "C3 = pp.LpConstraint(name=\"Shift_8_12\",\n",
    "                     e= DR_4_12 + DR_8_16,\n",
    "                     rhs=10,\n",
    "                     sense=pp.LpConstraintGE)\n",
    "\n",
    "C4 = pp.LpConstraint(name=\"Shift_12_16\",\n",
    "                     e= DR_8_16 + DR_12_20,\n",
    "                     rhs=7,\n",
    "                     sense=pp.LpConstraintGE)\n",
    "\n",
    "C5 = pp.LpConstraint(name=\"Shift_16_20\",\n",
    "                     e= DR_12_20 + DR_16_0,\n",
    "                     rhs=12,\n",
    "                     sense=pp.LpConstraintGE)\n",
    "\n",
    "C6 = pp.LpConstraint(name=\"Shift_20_0\",\n",
    "                     e= DR_16_0 + DR_20_4,\n",
    "                     rhs=4,\n",
    "                     sense=pp.LpConstraintGE)"
   ]
  },
  {
   "cell_type": "code",
   "execution_count": 16,
   "metadata": {},
   "outputs": [],
   "source": [
    "# Paso 5: construyendo el modelo\n",
    "model2 += C1\n",
    "model2 += C2\n",
    "model2 += C3\n",
    "model2 += C4\n",
    "model2 += C5\n",
    "model2 += C6"
   ]
  },
  {
   "cell_type": "code",
   "execution_count": 17,
   "metadata": {},
   "outputs": [
    {
     "name": "stdout",
     "output_type": "stream",
     "text": [
      "['GLPK_CMD', 'PYGLPK', 'CPLEX_CMD', 'CPLEX_PY', 'GUROBI', 'GUROBI_CMD', 'MOSEK', 'XPRESS', 'XPRESS', 'XPRESS_PY', 'PULP_CBC_CMD', 'COIN_CMD', 'COINMP_DLL', 'CHOCO_CMD', 'MIPCL_CMD', 'SCIP_CMD', 'FSCIP_CMD', 'SCIP_PY', 'HiGHS', 'HiGHS_CMD', 'COPT', 'COPT_DLL', 'COPT_CMD']\n"
     ]
    }
   ],
   "source": [
    "# Paso 6: resolviendo el modelo\n",
    "solver_list = pp.listSolvers()\n",
    "print(solver_list)"
   ]
  },
  {
   "cell_type": "code",
   "execution_count": 18,
   "metadata": {},
   "outputs": [
    {
     "data": {
      "text/plain": [
       "1"
      ]
     },
     "execution_count": 18,
     "metadata": {},
     "output_type": "execute_result"
    }
   ],
   "source": [
    "model2.solve(pp.PULP_CBC_CMD(msg=False))"
   ]
  },
  {
   "cell_type": "code",
   "execution_count": 19,
   "metadata": {},
   "outputs": [
    {
     "name": "stdout",
     "output_type": "stream",
     "text": [
      "Status: Optimal\n",
      "Total Drivers Needed: 26.0\n",
      "Drivers starting at 0-8: 0.0\n",
      "Drivers starting at 4-12: 10.0\n",
      "Drivers starting at 8-16: 0.0\n",
      "Drivers starting at 12-20: 12.0\n",
      "Drivers starting at 16-0: 0.0\n",
      "Drivers starting at 20-4: 4.0\n"
     ]
    }
   ],
   "source": [
    "print(\"Status:\", pp.LpStatus[model2.status])\n",
    "print(\"Total Drivers Needed:\", pp.value(model2.objective))\n",
    "print(\"Drivers starting at 0-8:\", pp.value(DR_0_8))\n",
    "print(\"Drivers starting at 4-12:\", pp.value(DR_4_12))\n",
    "print(\"Drivers starting at 8-16:\", pp.value(DR_8_16))\n",
    "print(\"Drivers starting at 12-20:\", pp.value(DR_12_20))\n",
    "print(\"Drivers starting at 16-0:\", pp.value(DR_16_0))\n",
    "print(\"Drivers starting at 20-4:\", pp.value(DR_20_4))"
   ]
  },
  {
   "cell_type": "markdown",
   "metadata": {},
   "source": [
    "## Ejercicio 3: Toma de decisiones con criterios múltiples"
   ]
  },
  {
   "cell_type": "markdown",
   "metadata": {},
   "source": [
    "### Paso 1: preparar la data para las comparaciones"
   ]
  },
  {
   "cell_type": "code",
   "execution_count": 20,
   "metadata": {},
   "outputs": [
    {
     "data": {
      "text/html": [
       "\n",
       "<iframe src=\"https://docs.google.com/spreadsheets/d/e/2PACX-1vQbKRIfZ6h_PrSW74V9F_7kIUbp0rfzexw-66DihXQuF_P5JwxLXIWwDLy3Oiz_TZ1XF6F59C2eunTj/pubhtml\" width=\"600\" height=\"300\" ></iframe>\n"
      ],
      "text/plain": [
       "<IPython.core.display.HTML object>"
      ]
     },
     "metadata": {},
     "output_type": "display_data"
    }
   ],
   "source": [
    "%%html\n",
    "\n",
    "<iframe src=\"https://docs.google.com/spreadsheets/d/e/2PACX-1vQbKRIfZ6h_PrSW74V9F_7kIUbp0rfzexw-66DihXQuF_P5JwxLXIWwDLy3Oiz_TZ1XF6F59C2eunTj/pubhtml\" width=\"600\" height=\"300\" ></iframe>"
   ]
  },
  {
   "cell_type": "code",
   "execution_count": 21,
   "metadata": {},
   "outputs": [],
   "source": [
    "# the link to the data\n",
    "\n",
    "linkGoogle= 'https://docs.google.com/spreadsheets/d/e/2PACX-1vQbKRIfZ6h_PrSW74V9F_7kIUbp0rfzexw-66DihXQuF_P5JwxLXIWwDLy3Oiz_TZ1XF6F59C2eunTj/pub?output=xlsx'# the link to the data"
   ]
  },
  {
   "cell_type": "code",
   "execution_count": 22,
   "metadata": {},
   "outputs": [
    {
     "name": "stdout",
     "output_type": "stream",
     "text": [
      "Requirement already satisfied: openpyxl in c:\\users\\maria\\appdata\\local\\programs\\python\\python312\\lib\\site-packages (3.1.5)\n",
      "Requirement already satisfied: et-xmlfile in c:\\users\\maria\\appdata\\local\\programs\\python\\python312\\lib\\site-packages (from openpyxl) (2.0.0)\n"
     ]
    },
    {
     "name": "stderr",
     "output_type": "stream",
     "text": [
      "\n",
      "[notice] A new release of pip is available: 24.2 -> 24.3.1\n",
      "[notice] To update, run: python.exe -m pip install --upgrade pip\n"
     ]
    }
   ],
   "source": [
    "!pip install openpyxl"
   ]
  },
  {
   "cell_type": "markdown",
   "metadata": {},
   "source": [
    "## Paso 2: abrir cada hoja de excel"
   ]
  },
  {
   "cell_type": "code",
   "execution_count": 23,
   "metadata": {},
   "outputs": [],
   "source": [
    "# opening the comparissons\n",
    "\n",
    "import pandas as pd\n",
    "\n",
    "pairwise_inclusion=pd.read_excel(linkGoogle,sheet_name='inclusión social', index_col=0)\n",
    "pairwise_beneficiarios=pd.read_excel(linkGoogle,sheet_name='beneficiarios', index_col=0)\n",
    "pairwise_premios=pd.read_excel(linkGoogle,sheet_name='premios', index_col=0)\n",
    "pairwise_criterios=pd.read_excel(linkGoogle,sheet_name='criterios', index_col=0)"
   ]
  },
  {
   "cell_type": "code",
   "execution_count": 24,
   "metadata": {},
   "outputs": [
    {
     "data": {
      "text/html": [
       "<div>\n",
       "<style scoped>\n",
       "    .dataframe tbody tr th:only-of-type {\n",
       "        vertical-align: middle;\n",
       "    }\n",
       "\n",
       "    .dataframe tbody tr th {\n",
       "        vertical-align: top;\n",
       "    }\n",
       "\n",
       "    .dataframe thead th {\n",
       "        text-align: right;\n",
       "    }\n",
       "</style>\n",
       "<table border=\"1\" class=\"dataframe\">\n",
       "  <thead>\n",
       "    <tr style=\"text-align: right;\">\n",
       "      <th></th>\n",
       "      <th>INCLUSION</th>\n",
       "      <th>BENEFICIARIOS</th>\n",
       "      <th>RECONOCIMIENTO</th>\n",
       "    </tr>\n",
       "  </thead>\n",
       "  <tbody>\n",
       "    <tr>\n",
       "      <th>INCLUSION</th>\n",
       "      <td>1.0</td>\n",
       "      <td>0.33</td>\n",
       "      <td>0.20</td>\n",
       "    </tr>\n",
       "    <tr>\n",
       "      <th>BENEFICIARIOS</th>\n",
       "      <td>0.2</td>\n",
       "      <td>1.00</td>\n",
       "      <td>0.25</td>\n",
       "    </tr>\n",
       "    <tr>\n",
       "      <th>RECONOCIMIENTO</th>\n",
       "      <td>5.0</td>\n",
       "      <td>4.00</td>\n",
       "      <td>1.00</td>\n",
       "    </tr>\n",
       "  </tbody>\n",
       "</table>\n",
       "</div>"
      ],
      "text/plain": [
       "                INCLUSION  BENEFICIARIOS  RECONOCIMIENTO\n",
       "INCLUSION             1.0           0.33            0.20\n",
       "BENEFICIARIOS         0.2           1.00            0.25\n",
       "RECONOCIMIENTO        5.0           4.00            1.00"
      ]
     },
     "execution_count": 24,
     "metadata": {},
     "output_type": "execute_result"
    }
   ],
   "source": [
    "pairwise_criterios"
   ]
  },
  {
   "cell_type": "markdown",
   "metadata": {},
   "source": [
    "### Paso 3: Transforme todas las matrices en comparaciones por pares"
   ]
  },
  {
   "cell_type": "code",
   "execution_count": 25,
   "metadata": {},
   "outputs": [
    {
     "data": {
      "text/plain": [
       "OutMultiEdgeDataView([('PRONABEC', 'PRONABEC', {'weight': 1.0}), ('PRONABEC', 'QALIWARMA', {'weight': 7.0}), ('PRONABEC', 'JUNTOS', {'weight': 0.25}), ('PRONABEC', 'FONCODES', {'weight': 3.0}), ('PRONABEC', 'CUNAMAS', {'weight': 5.0}), ('QALIWARMA', 'QALIWARMA', {'weight': 1.0}), ('QALIWARMA', 'PRONABEC', {'weight': 0.14}), ('QALIWARMA', 'JUNTOS', {'weight': 0.16}), ('QALIWARMA', 'FONCODES', {'weight': 0.5}), ('QALIWARMA', 'CUNAMAS', {'weight': 3.0}), ('JUNTOS', 'JUNTOS', {'weight': 1.0}), ('JUNTOS', 'PRONABEC', {'weight': 4.0}), ('JUNTOS', 'QALIWARMA', {'weight': 6.0}), ('JUNTOS', 'FONCODES', {'weight': 5.0}), ('JUNTOS', 'CUNAMAS', {'weight': 7.0}), ('FONCODES', 'FONCODES', {'weight': 1.0}), ('FONCODES', 'PRONABEC', {'weight': 0.33}), ('FONCODES', 'QALIWARMA', {'weight': 2.0}), ('FONCODES', 'JUNTOS', {'weight': 0.2}), ('FONCODES', 'CUNAMAS', {'weight': 5.0}), ('CUNAMAS', 'CUNAMAS', {'weight': 1.0}), ('CUNAMAS', 'PRONABEC', {'weight': 0.2}), ('CUNAMAS', 'QALIWARMA', {'weight': 0.33}), ('CUNAMAS', 'JUNTOS', {'weight': 0.14}), ('CUNAMAS', 'FONCODES', {'weight': 0.2})])"
      ]
     },
     "execution_count": 25,
     "metadata": {},
     "output_type": "execute_result"
    }
   ],
   "source": [
    "import networkx as nx\n",
    "\n",
    "G_inclusion = nx.from_pandas_adjacency(pairwise_inclusion,create_using=nx.MultiDiGraph())\n",
    "\n",
    "# pairwise\n",
    "G_inclusion.edges(data=True)"
   ]
  },
  {
   "cell_type": "code",
   "execution_count": 26,
   "metadata": {},
   "outputs": [
    {
     "data": {
      "text/plain": [
       "{('PRONABEC', 'QALIWARMA'): 7.0,\n",
       " ('PRONABEC', 'JUNTOS'): 0.25,\n",
       " ('PRONABEC', 'FONCODES'): 3.0,\n",
       " ('PRONABEC', 'CUNAMAS'): 5.0,\n",
       " ('QALIWARMA', 'PRONABEC'): 0.14,\n",
       " ('QALIWARMA', 'JUNTOS'): 0.16,\n",
       " ('QALIWARMA', 'FONCODES'): 0.5,\n",
       " ('QALIWARMA', 'CUNAMAS'): 3.0,\n",
       " ('JUNTOS', 'PRONABEC'): 4.0,\n",
       " ('JUNTOS', 'QALIWARMA'): 6.0,\n",
       " ('JUNTOS', 'FONCODES'): 5.0,\n",
       " ('JUNTOS', 'CUNAMAS'): 7.0,\n",
       " ('FONCODES', 'PRONABEC'): 0.33,\n",
       " ('FONCODES', 'QALIWARMA'): 2.0,\n",
       " ('FONCODES', 'JUNTOS'): 0.2,\n",
       " ('FONCODES', 'CUNAMAS'): 5.0,\n",
       " ('CUNAMAS', 'PRONABEC'): 0.2,\n",
       " ('CUNAMAS', 'QALIWARMA'): 0.33,\n",
       " ('CUNAMAS', 'JUNTOS'): 0.14,\n",
       " ('CUNAMAS', 'FONCODES'): 0.2}"
      ]
     },
     "execution_count": 26,
     "metadata": {},
     "output_type": "execute_result"
    }
   ],
   "source": [
    "# comparissons for age as dict\n",
    "inclusion_comparisons ={(e[0],e[1]):e[2]['weight'] for e in G_inclusion.edges(data=True) if e[0]!= e[1]}\n",
    "inclusion_comparisons"
   ]
  },
  {
   "cell_type": "code",
   "execution_count": 27,
   "metadata": {},
   "outputs": [],
   "source": [
    "# the remaining comparissons:\n",
    "\n",
    "G_benf = nx.from_pandas_adjacency(pairwise_beneficiarios,create_using=nx.MultiDiGraph())\n",
    "beneficiarios_comparisons={(e[0],e[1]):e[2]['weight'] for e in G_benf.edges(data=True) if e[0]!= e[1]}\n",
    "\n",
    "G_premios = nx.from_pandas_adjacency(pairwise_premios,create_using=nx.MultiDiGraph())\n",
    "premios_comparisons={(e[0],e[1]):e[2]['weight'] for e in G_premios.edges(data=True) if e[0]!= e[1]}"
   ]
  },
  {
   "cell_type": "code",
   "execution_count": 28,
   "metadata": {},
   "outputs": [
    {
     "data": {
      "text/plain": [
       "[{('PRONABEC', 'QALIWARMA'): 7.0,\n",
       "  ('PRONABEC', 'JUNTOS'): 0.25,\n",
       "  ('PRONABEC', 'FONCODES'): 3.0,\n",
       "  ('PRONABEC', 'CUNAMAS'): 5.0,\n",
       "  ('QALIWARMA', 'PRONABEC'): 0.14,\n",
       "  ('QALIWARMA', 'JUNTOS'): 0.16,\n",
       "  ('QALIWARMA', 'FONCODES'): 0.5,\n",
       "  ('QALIWARMA', 'CUNAMAS'): 3.0,\n",
       "  ('JUNTOS', 'PRONABEC'): 4.0,\n",
       "  ('JUNTOS', 'QALIWARMA'): 6.0,\n",
       "  ('JUNTOS', 'FONCODES'): 5.0,\n",
       "  ('JUNTOS', 'CUNAMAS'): 7.0,\n",
       "  ('FONCODES', 'PRONABEC'): 0.33,\n",
       "  ('FONCODES', 'QALIWARMA'): 2.0,\n",
       "  ('FONCODES', 'JUNTOS'): 0.2,\n",
       "  ('FONCODES', 'CUNAMAS'): 5.0,\n",
       "  ('CUNAMAS', 'PRONABEC'): 0.2,\n",
       "  ('CUNAMAS', 'QALIWARMA'): 0.33,\n",
       "  ('CUNAMAS', 'JUNTOS'): 0.14,\n",
       "  ('CUNAMAS', 'FONCODES'): 0.2},\n",
       " {('PRONABEC', 'QALIWARMA'): 0.33,\n",
       "  ('PRONABEC', 'JUNTOS'): 0.2,\n",
       "  ('PRONABEC', 'FONCODES'): 3.0,\n",
       "  ('PRONABEC', 'CUNAMAS'): 0.25,\n",
       "  ('QALIWARMA', 'PRONABEC'): 3.0,\n",
       "  ('QALIWARMA', 'JUNTOS'): 0.2,\n",
       "  ('QALIWARMA', 'FONCODES'): 5.0,\n",
       "  ('QALIWARMA', 'CUNAMAS'): 0.33,\n",
       "  ('JUNTOS', 'PRONABEC'): 5.0,\n",
       "  ('JUNTOS', 'QALIWARMA'): 5.0,\n",
       "  ('JUNTOS', 'FONCODES'): 5.0,\n",
       "  ('JUNTOS', 'CUNAMAS'): 4.0,\n",
       "  ('FONCODES', 'PRONABEC'): 0.33,\n",
       "  ('FONCODES', 'QALIWARMA'): 0.2,\n",
       "  ('FONCODES', 'JUNTOS'): 0.2,\n",
       "  ('FONCODES', 'CUNAMAS'): 0.25,\n",
       "  ('CUNAMAS', 'PRONABEC'): 4.0,\n",
       "  ('CUNAMAS', 'QALIWARMA'): 3.0,\n",
       "  ('CUNAMAS', 'JUNTOS'): 0.25,\n",
       "  ('CUNAMAS', 'FONCODES'): 4.0},\n",
       " {('PRONABEC', 'QALIWARMA'): 5.0,\n",
       "  ('PRONABEC', 'JUNTOS'): 5.0,\n",
       "  ('PRONABEC', 'FONCODES'): 5.0,\n",
       "  ('PRONABEC', 'CUNAMAS'): 6.0,\n",
       "  ('QALIWARMA', 'PRONABEC'): 0.2,\n",
       "  ('QALIWARMA', 'JUNTOS'): 5.0,\n",
       "  ('QALIWARMA', 'FONCODES'): 3.0,\n",
       "  ('QALIWARMA', 'CUNAMAS'): 3.0,\n",
       "  ('JUNTOS', 'PRONABEC'): 0.2,\n",
       "  ('JUNTOS', 'QALIWARMA'): 0.2,\n",
       "  ('JUNTOS', 'FONCODES'): 0.33,\n",
       "  ('JUNTOS', 'CUNAMAS'): 3.0,\n",
       "  ('FONCODES', 'PRONABEC'): 0.2,\n",
       "  ('FONCODES', 'QALIWARMA'): 0.33,\n",
       "  ('FONCODES', 'JUNTOS'): 3.0,\n",
       "  ('FONCODES', 'CUNAMAS'): 4.0,\n",
       "  ('CUNAMAS', 'PRONABEC'): 0.16,\n",
       "  ('CUNAMAS', 'QALIWARMA'): 0.33,\n",
       "  ('CUNAMAS', 'JUNTOS'): 0.33,\n",
       "  ('CUNAMAS', 'FONCODES'): 0.25}]"
      ]
     },
     "execution_count": 28,
     "metadata": {},
     "output_type": "execute_result"
    }
   ],
   "source": [
    "# take a look\n",
    "[inclusion_comparisons, beneficiarios_comparisons,premios_comparisons]"
   ]
  },
  {
   "cell_type": "code",
   "execution_count": 29,
   "metadata": {},
   "outputs": [
    {
     "data": {
      "text/plain": [
       "{('INCLUSION', 'BENEFICIARIOS'): 0.33,\n",
       " ('INCLUSION', 'RECONOCIMIENTO'): 0.2,\n",
       " ('BENEFICIARIOS', 'INCLUSION'): 0.2,\n",
       " ('BENEFICIARIOS', 'RECONOCIMIENTO'): 0.25,\n",
       " ('RECONOCIMIENTO', 'INCLUSION'): 5.0,\n",
       " ('RECONOCIMIENTO', 'BENEFICIARIOS'): 4.0}"
      ]
     },
     "execution_count": 29,
     "metadata": {},
     "output_type": "execute_result"
    }
   ],
   "source": [
    "# now the criteria\n",
    "\n",
    "G_CRIT = nx.from_pandas_adjacency(pairwise_criterios,create_using=nx.MultiDiGraph())\n",
    "criterios_comparisons ={(e[0],e[1]):e[2]['weight'] for e in G_CRIT.edges(data=True) if e[0]!= e[1]}\n",
    "criterios_comparisons"
   ]
  },
  {
   "cell_type": "markdown",
   "metadata": {},
   "source": [
    "### Paso 4: aplicar el algoritmo"
   ]
  },
  {
   "cell_type": "code",
   "execution_count": 30,
   "metadata": {},
   "outputs": [],
   "source": [
    "import ahpy\n",
    "\n",
    "inclusion = ahpy.Compare('inclusión social', inclusion_comparisons, precision=3, random_index='saaty')\n",
    "beneficiarios = ahpy.Compare('beneficiarios', beneficiarios_comparisons, precision=3, random_index='saaty')\n",
    "premios = ahpy.Compare('premios', premios_comparisons, precision=3, random_index='saaty')\n",
    "criterios = ahpy.Compare('criterios', criterios_comparisons, precision=3, random_index='saaty')"
   ]
  },
  {
   "cell_type": "markdown",
   "metadata": {},
   "source": [
    "### Paso 5: Crear jerarquía"
   ]
  },
  {
   "cell_type": "code",
   "execution_count": 31,
   "metadata": {},
   "outputs": [],
   "source": [
    "criterios.add_children([inclusion, premios, beneficiarios])"
   ]
  },
  {
   "cell_type": "markdown",
   "metadata": {},
   "source": [
    "### Paso 6: Visualizar los resultados"
   ]
  },
  {
   "cell_type": "code",
   "execution_count": 32,
   "metadata": {},
   "outputs": [
    {
     "name": "stdout",
     "output_type": "stream",
     "text": [
      "{}\n"
     ]
    }
   ],
   "source": [
    "print(criterios.target_weights)"
   ]
  },
  {
   "cell_type": "markdown",
   "metadata": {},
   "source": [
    "### Paso 7: Evaluar la consistencia"
   ]
  },
  {
   "cell_type": "code",
   "execution_count": 33,
   "metadata": {},
   "outputs": [
    {
     "data": {
      "text/plain": [
       "[('inclusión social', np.float64(0.097)),\n",
       " ('premios', np.float64(0.125)),\n",
       " ('beneficiarios', np.float64(0.116))]"
      ]
     },
     "execution_count": 33,
     "metadata": {},
     "output_type": "execute_result"
    }
   ],
   "source": [
    "## We should review comparissons if greater than 0.1!\n",
    "[(val.name,val.consistency_ratio) for val in [inclusion, premios, beneficiarios]]"
   ]
  }
 ],
 "metadata": {
  "kernelspec": {
   "display_name": "Python 3",
   "language": "python",
   "name": "python3"
  },
  "language_info": {
   "codemirror_mode": {
    "name": "ipython",
    "version": 3
   },
   "file_extension": ".py",
   "mimetype": "text/x-python",
   "name": "python",
   "nbconvert_exporter": "python",
   "pygments_lexer": "ipython3",
   "version": "3.12.5"
  }
 },
 "nbformat": 4,
 "nbformat_minor": 2
}
